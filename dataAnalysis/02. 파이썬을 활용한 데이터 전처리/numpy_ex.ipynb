{
 "cells": [
  {
   "cell_type": "code",
   "execution_count": null,
   "id": "c8b2efdf",
   "metadata": {},
   "outputs": [],
   "source": [
    "# 라이브러리 불러오기\n",
    "import numpy\n",
    "import pandas\n",
    "import matplotlib.pyplot\n",
    "import seaborn"
   ]
  },
  {
   "cell_type": "code",
   "execution_count": 2,
   "id": "5ffdf307",
   "metadata": {},
   "outputs": [
    {
     "data": {
      "text/plain": [
       "array([2, 2])"
      ]
     },
     "execution_count": 2,
     "metadata": {},
     "output_type": "execute_result"
    }
   ],
   "source": [
    "numpy.array((2,2))"
   ]
  },
  {
   "cell_type": "code",
   "execution_count": 1,
   "id": "2bf2f199",
   "metadata": {},
   "outputs": [],
   "source": [
    "# alias(별칭) 설정\n",
    "import numpy as np\n",
    "import pandas as pd\n",
    "import matplotlib as plt\n",
    "import seaborn as sns"
   ]
  },
  {
   "cell_type": "code",
   "execution_count": 4,
   "id": "5a5ed5e9",
   "metadata": {},
   "outputs": [
    {
     "data": {
      "text/plain": [
       "array([2, 2])"
      ]
     },
     "execution_count": 4,
     "metadata": {},
     "output_type": "execute_result"
    }
   ],
   "source": [
    "np.array((2,2))"
   ]
  },
  {
   "cell_type": "code",
   "execution_count": 8,
   "id": "eccc81d7",
   "metadata": {},
   "outputs": [
    {
     "name": "stdout",
     "output_type": "stream",
     "text": [
      "[2 3]\n",
      "<class 'numpy.ndarray'>\n"
     ]
    }
   ],
   "source": [
    "array1 = np.array((2, 3))\n",
    "print(array1)\n",
    "print(type(array1))"
   ]
  },
  {
   "cell_type": "markdown",
   "id": "dc37b2c8",
   "metadata": {},
   "source": [
    "## 1. Numpy란?"
   ]
  },
  {
   "cell_type": "code",
   "execution_count": null,
   "id": "1c6d58e9",
   "metadata": {},
   "outputs": [
    {
     "data": {
      "text/plain": [
       "(3,)"
      ]
     },
     "execution_count": 10,
     "metadata": {},
     "output_type": "execute_result"
    }
   ],
   "source": [
    "# 1D array\n",
    "arr1 = np.array([1, 2, 3])\n",
    "np.shape(arr1)   # shape : 데이터가 몇개인지 확인"
   ]
  },
  {
   "cell_type": "code",
   "execution_count": 11,
   "id": "ff11a0f2",
   "metadata": {},
   "outputs": [
    {
     "data": {
      "text/plain": [
       "(3,)"
      ]
     },
     "execution_count": 11,
     "metadata": {},
     "output_type": "execute_result"
    }
   ],
   "source": [
    "arr1.shape"
   ]
  },
  {
   "cell_type": "code",
   "execution_count": null,
   "id": "33e92ee0",
   "metadata": {},
   "outputs": [
    {
     "data": {
      "text/plain": [
       "(2, 3)"
      ]
     },
     "execution_count": 12,
     "metadata": {},
     "output_type": "execute_result"
    }
   ],
   "source": [
    "# 2D array\n",
    "arr2 = np.array([[1, 2, 3], \n",
    "                 [4, 5, 6]])\n",
    "\n",
    "np.shape(arr2)   # (2, 3) : 2행 3열"
   ]
  },
  {
   "cell_type": "code",
   "execution_count": null,
   "id": "1783d262",
   "metadata": {},
   "outputs": [
    {
     "data": {
      "text/plain": [
       "(3, 2, 3)"
      ]
     },
     "execution_count": 14,
     "metadata": {},
     "output_type": "execute_result"
    }
   ],
   "source": [
    "#3D array\n",
    "arr3 = np.array([[[1,2,3],\n",
    "                  [4,5,6]],\n",
    "                 [[7,8,9],\n",
    "                  [10, 11,12]],\n",
    "                 [[13, 14, 15],\n",
    "                  [16, 17, 18]]])\n",
    "\n",
    "arr3.shape   # (3, 2, 3) : 3차원 2행 3열"
   ]
  },
  {
   "cell_type": "markdown",
   "id": "3ce735c1",
   "metadata": {},
   "source": [
    "------------\n",
    "\n",
    "## 3-2. 배열(array) 데이터 슬라이싱과 정렬"
   ]
  },
  {
   "cell_type": "markdown",
   "id": "8d98f4a4",
   "metadata": {
    "vscode": {
     "languageId": "plaintext"
    }
   },
   "source": [
    "### 배열 생성하기"
   ]
  },
  {
   "cell_type": "code",
   "execution_count": 4,
   "id": "5a0c0345",
   "metadata": {},
   "outputs": [
    {
     "name": "stdout",
     "output_type": "stream",
     "text": [
      "<class 'list'>\n",
      "[1 2 3]\n",
      "<class 'numpy.ndarray'>\n"
     ]
    }
   ],
   "source": [
    "mylist = [1, 2, 3]\n",
    "a = np.array(mylist)\n",
    "print(type(mylist))\n",
    "print(a)\n",
    "print(type(a))"
   ]
  },
  {
   "cell_type": "code",
   "execution_count": 5,
   "id": "c3daf9d1",
   "metadata": {},
   "outputs": [
    {
     "data": {
      "text/plain": [
       "array([[1, 2, 3],\n",
       "       [4, 5, 6]])"
      ]
     },
     "execution_count": 5,
     "metadata": {},
     "output_type": "execute_result"
    }
   ],
   "source": [
    "mylist = [[1, 2,3], [4, 5, 6]]\n",
    "np.array(mylist)"
   ]
  },
  {
   "cell_type": "markdown",
   "id": "866cfd85",
   "metadata": {},
   "source": [
    "### 데이터 타입 지정"
   ]
  },
  {
   "cell_type": "code",
   "execution_count": 6,
   "id": "61df16d1",
   "metadata": {},
   "outputs": [
    {
     "data": {
      "text/plain": [
       "array([1, 2, 3])"
      ]
     },
     "execution_count": 6,
     "metadata": {},
     "output_type": "execute_result"
    }
   ],
   "source": [
    "np.array([1, 2, 3], dtype = int)"
   ]
  },
  {
   "cell_type": "code",
   "execution_count": 7,
   "id": "e1806869",
   "metadata": {},
   "outputs": [
    {
     "data": {
      "text/plain": [
       "dtype('int64')"
      ]
     },
     "execution_count": 7,
     "metadata": {},
     "output_type": "execute_result"
    }
   ],
   "source": [
    "a = np.array([1, 2, 3], dtype = int)\n",
    "a.dtype"
   ]
  },
  {
   "cell_type": "code",
   "execution_count": 8,
   "id": "8610952f",
   "metadata": {},
   "outputs": [
    {
     "data": {
      "text/plain": [
       "array([1., 2., 3.])"
      ]
     },
     "execution_count": 8,
     "metadata": {},
     "output_type": "execute_result"
    }
   ],
   "source": [
    "np.array([1, 2, 3], dtype = float)"
   ]
  },
  {
   "cell_type": "code",
   "execution_count": 9,
   "id": "25009020",
   "metadata": {},
   "outputs": [
    {
     "data": {
      "text/plain": [
       "dtype('float64')"
      ]
     },
     "execution_count": 9,
     "metadata": {},
     "output_type": "execute_result"
    }
   ],
   "source": [
    "b = np.array([1, 2, 3], dtype = float)\n",
    "b.dtype"
   ]
  },
  {
   "cell_type": "code",
   "execution_count": 11,
   "id": "a9de0b16",
   "metadata": {},
   "outputs": [
    {
     "data": {
      "text/plain": [
       "array(['1', '2', '3'], dtype='<U1')"
      ]
     },
     "execution_count": 11,
     "metadata": {},
     "output_type": "execute_result"
    }
   ],
   "source": [
    "np.array(['1', '2', '3'])   #<U1 : 유니코드, 길이가 1인 문자"
   ]
  },
  {
   "cell_type": "code",
   "execution_count": null,
   "id": "0ef491a8",
   "metadata": {},
   "outputs": [
    {
     "data": {
      "text/plain": [
       "array(['ab', 'cd', 'ef'], dtype='<U2')"
      ]
     },
     "execution_count": 12,
     "metadata": {},
     "output_type": "execute_result"
    }
   ],
   "source": [
    "np.array(['ab', 'cd', 'ef'])"
   ]
  },
  {
   "cell_type": "code",
   "execution_count": 13,
   "id": "88f4892e",
   "metadata": {},
   "outputs": [
    {
     "data": {
      "text/plain": [
       "array([1, 2, 3])"
      ]
     },
     "execution_count": 13,
     "metadata": {},
     "output_type": "execute_result"
    }
   ],
   "source": [
    "np.array(['1', '2', '3'], dtype = int)"
   ]
  },
  {
   "cell_type": "markdown",
   "id": "cc4386d1",
   "metadata": {},
   "source": [
    "### 자체 생성 함수"
   ]
  },
  {
   "cell_type": "code",
   "execution_count": 15,
   "id": "1a2c401b",
   "metadata": {},
   "outputs": [
    {
     "name": "stdout",
     "output_type": "stream",
     "text": [
      "[[1. 1. 1.]\n",
      " [1. 1. 1.]\n",
      " [1. 1. 1.]]\n",
      "float64\n"
     ]
    }
   ],
   "source": [
    "# 값이 1로 채워진 배열 생성 : ones()\n",
    "a = np.ones((3, 3))\n",
    "print(a)\n",
    "print(a.dtype)"
   ]
  },
  {
   "cell_type": "code",
   "execution_count": 16,
   "id": "e29cb296",
   "metadata": {},
   "outputs": [
    {
     "data": {
      "text/plain": [
       "array([[1, 1, 1],\n",
       "       [1, 1, 1],\n",
       "       [1, 1, 1]])"
      ]
     },
     "execution_count": 16,
     "metadata": {},
     "output_type": "execute_result"
    }
   ],
   "source": [
    "np.ones((3, 3), dtype = int)"
   ]
  },
  {
   "cell_type": "code",
   "execution_count": 17,
   "id": "19909ee4",
   "metadata": {},
   "outputs": [
    {
     "data": {
      "text/plain": [
       "array([[0., 0., 0.],\n",
       "       [0., 0., 0.],\n",
       "       [0., 0., 0.]])"
      ]
     },
     "execution_count": 17,
     "metadata": {},
     "output_type": "execute_result"
    }
   ],
   "source": [
    "# 값이 0으로 채워진 배열 생성 : zeros()\n",
    "np.zeros((3, 3))"
   ]
  },
  {
   "cell_type": "code",
   "execution_count": 19,
   "id": "c66c7c87",
   "metadata": {},
   "outputs": [
    {
     "data": {
      "text/plain": [
       "array([[1., 0., 0.],\n",
       "       [0., 1., 0.],\n",
       "       [0., 0., 1.]])"
      ]
     },
     "execution_count": 19,
     "metadata": {},
     "output_type": "execute_result"
    }
   ],
   "source": [
    "# 단위 행렬 만들기 : eye()\n",
    "np.eye(3, 3)"
   ]
  },
  {
   "cell_type": "code",
   "execution_count": 20,
   "id": "ef95e5d3",
   "metadata": {},
   "outputs": [
    {
     "data": {
      "text/plain": [
       "array([[10, 10, 10],\n",
       "       [10, 10, 10],\n",
       "       [10, 10, 10]])"
      ]
     },
     "execution_count": 20,
     "metadata": {},
     "output_type": "execute_result"
    }
   ],
   "source": [
    "# 사용자가 지정한 값으로 채워진 배열 생성 : full()\n",
    "np.full((3, 3), 10)"
   ]
  },
  {
   "cell_type": "code",
   "execution_count": 21,
   "id": "b9a0519b",
   "metadata": {},
   "outputs": [
    {
     "data": {
      "text/plain": [
       "array([[0.06145676, 0.9610377 , 0.71454124],\n",
       "       [0.82969321, 0.48463857, 0.94653315],\n",
       "       [0.16640609, 0.83381177, 0.88688182]])"
      ]
     },
     "execution_count": 21,
     "metadata": {},
     "output_type": "execute_result"
    }
   ],
   "source": [
    "# 랜덤 값 : random.rand()\n",
    "np.random.rand(3,3)"
   ]
  },
  {
   "cell_type": "markdown",
   "id": "ff3b2817",
   "metadata": {},
   "source": [
    "### 등간격 배열 생성 : arange(), linspace()"
   ]
  },
  {
   "cell_type": "code",
   "execution_count": 26,
   "id": "a288a1da",
   "metadata": {},
   "outputs": [
    {
     "data": {
      "text/plain": [
       "array([0, 1, 2, 3, 4, 5, 6, 7, 8, 9])"
      ]
     },
     "execution_count": 26,
     "metadata": {},
     "output_type": "execute_result"
    }
   ],
   "source": [
    "# arange() : 끝값 포함 X\n",
    "np.arange(10)"
   ]
  },
  {
   "cell_type": "code",
   "execution_count": 24,
   "id": "e43cfff0",
   "metadata": {},
   "outputs": [
    {
     "data": {
      "text/plain": [
       "array([2, 3, 4, 5, 6, 7, 8, 9])"
      ]
     },
     "execution_count": 24,
     "metadata": {},
     "output_type": "execute_result"
    }
   ],
   "source": [
    "np.arange(2, 10)"
   ]
  },
  {
   "cell_type": "code",
   "execution_count": 28,
   "id": "1f47fe4d",
   "metadata": {},
   "outputs": [
    {
     "data": {
      "text/plain": [
       "array([2, 4, 6, 8])"
      ]
     },
     "execution_count": 28,
     "metadata": {},
     "output_type": "execute_result"
    }
   ],
   "source": [
    "np.arange(2, 10, 2)      # arange(start, end, skip)"
   ]
  },
  {
   "cell_type": "code",
   "execution_count": 29,
   "id": "f713171b",
   "metadata": {},
   "outputs": [
    {
     "data": {
      "text/plain": [
       "array([ 1.  ,  3.25,  5.5 ,  7.75, 10.  ])"
      ]
     },
     "execution_count": 29,
     "metadata": {},
     "output_type": "execute_result"
    }
   ],
   "source": [
    "# linspace() : 끝값 포함\n",
    "np.linspace(1, 10, 5)   # linspace(start, end, 요소갯수)"
   ]
  },
  {
   "cell_type": "code",
   "execution_count": 33,
   "id": "54a2d53f",
   "metadata": {},
   "outputs": [
    {
     "name": "stdout",
     "output_type": "stream",
     "text": [
      "[0 1 2 3 4 5 6 7 8 9]\n",
      "a:  (10,)\n",
      "[[0 1 2 3 4]\n",
      " [5 6 7 8 9]]\n",
      "b:  (2, 5)\n"
     ]
    }
   ],
   "source": [
    "# 배열의 모양 바꾸기 : reshape()\n",
    "a = np.arange(10)\n",
    "print(a)\n",
    "print('a: ', a.shape)\n",
    "\n",
    "b = np.arange(10).reshape(2, 5)\n",
    "print(b)\n",
    "print('b: ', b.shape)"
   ]
  },
  {
   "cell_type": "code",
   "execution_count": 37,
   "id": "28eae5f3",
   "metadata": {},
   "outputs": [
    {
     "name": "stdout",
     "output_type": "stream",
     "text": [
      "[[0 1 2 3 4]\n",
      " [5 6 7 8 9]]\n",
      "c:  (2, 5)\n",
      "[[0 1]\n",
      " [2 3]\n",
      " [4 5]\n",
      " [6 7]\n",
      " [8 9]]\n",
      "d:  (5, 2)\n"
     ]
    }
   ],
   "source": [
    "c = np.arange(10).reshape(-1, 5)   # 5열로 만들고 행은 알아서 설정\n",
    "print(c)\n",
    "print('c: ', c.shape)\n",
    "\n",
    "d = np.arange(10).reshape(5, -1)   # 5행으로 만들고 열은 알아서 설정\n",
    "print(d)\n",
    "print('d: ', d.shape)"
   ]
  },
  {
   "cell_type": "markdown",
   "id": "2d6ce4fd",
   "metadata": {},
   "source": [
    "### 슬라이싱"
   ]
  },
  {
   "cell_type": "code",
   "execution_count": 38,
   "id": "15ec8f0c",
   "metadata": {},
   "outputs": [
    {
     "data": {
      "text/plain": [
       "array([[ 1,  2,  3,  4],\n",
       "       [ 5,  6,  7,  8],\n",
       "       [ 9, 10, 11, 12],\n",
       "       [13, 14, 15, 16]])"
      ]
     },
     "execution_count": 38,
     "metadata": {},
     "output_type": "execute_result"
    }
   ],
   "source": [
    "arr = np.array([[1, 2, 3, 4],\n",
    "                [5, 6, 7, 8],\n",
    "                [9, 10, 11, 12],\n",
    "                [13, 14, 15, 16]])\n",
    "\n",
    "arr"
   ]
  },
  {
   "cell_type": "code",
   "execution_count": 40,
   "id": "eaa90bb4",
   "metadata": {},
   "outputs": [
    {
     "data": {
      "text/plain": [
       "array([[ 1,  2,  3,  4],\n",
       "       [ 5,  6,  7,  8],\n",
       "       [ 9, 10, 11, 12],\n",
       "       [13, 14, 15, 16]])"
      ]
     },
     "execution_count": 40,
     "metadata": {},
     "output_type": "execute_result"
    }
   ],
   "source": [
    "arr = np.arange(1, 17).reshape(4, -1)\n",
    "arr"
   ]
  },
  {
   "cell_type": "code",
   "execution_count": 42,
   "id": "5f3182f5",
   "metadata": {},
   "outputs": [
    {
     "name": "stdout",
     "output_type": "stream",
     "text": [
      "[1 2 3 4]\n",
      "[1 2 3 4]\n",
      "[3 4]\n"
     ]
    }
   ],
   "source": [
    "# 행 기준 슬라이싱\n",
    "print(arr[0])\n",
    "print(arr[0, :])     # 0행의 모든열\n",
    "print(arr[0, 2:4])   # 0행의 2~3열"
   ]
  },
  {
   "cell_type": "code",
   "execution_count": 43,
   "id": "a09e4348",
   "metadata": {},
   "outputs": [
    {
     "name": "stdout",
     "output_type": "stream",
     "text": [
      "[ 1  5  9 13]\n",
      "[ 3  7 11 15]\n",
      "[ 7 11]\n"
     ]
    }
   ],
   "source": [
    "# 열 기준 슬라이싱\n",
    "print(arr[:, 0])\n",
    "print(arr[:, 2])\n",
    "print(arr[1:3, 2])"
   ]
  },
  {
   "cell_type": "code",
   "execution_count": 44,
   "id": "6db039cb",
   "metadata": {},
   "outputs": [
    {
     "name": "stdout",
     "output_type": "stream",
     "text": [
      "[[ 1  2  3  4]\n",
      " [ 9 10 11 12]]\n",
      "[[ 5  6  7  8]\n",
      " [ 9 10 11 12]]\n",
      "[[ 2  3]\n",
      " [ 6  7]\n",
      " [10 11]\n",
      " [14 15]]\n"
     ]
    }
   ],
   "source": [
    "# 간격을 지정해서 슬라이싱\n",
    "print(arr[::2])\n",
    "print(arr[1:3])\n",
    "print(arr[:, 1:3])"
   ]
  },
  {
   "cell_type": "code",
   "execution_count": 45,
   "id": "54c0f823",
   "metadata": {},
   "outputs": [
    {
     "name": "stdout",
     "output_type": "stream",
     "text": [
      "[ 4  8 12 16]\n"
     ]
    }
   ],
   "source": [
    "# 마지막열 슬라이싱\n",
    "print(arr[:, -1])"
   ]
  },
  {
   "cell_type": "code",
   "execution_count": 47,
   "id": "c70bbae4",
   "metadata": {},
   "outputs": [
    {
     "name": "stdout",
     "output_type": "stream",
     "text": [
      "[[2 3]\n",
      " [6 7]]\n"
     ]
    }
   ],
   "source": [
    "#0, 1행 과 1, 2열 슬라이싱\n",
    "print(arr[0:2, 1:3])"
   ]
  },
  {
   "cell_type": "markdown",
   "id": "dc84e8bd",
   "metadata": {},
   "source": [
    "## fancy 인덱싱"
   ]
  },
  {
   "cell_type": "code",
   "execution_count": 48,
   "id": "3c86dc98",
   "metadata": {},
   "outputs": [
    {
     "data": {
      "text/plain": [
       "array([[ 1,  2,  3,  4],\n",
       "       [ 5,  6,  7,  8],\n",
       "       [ 9, 10, 11, 12],\n",
       "       [13, 14, 15, 16]])"
      ]
     },
     "execution_count": 48,
     "metadata": {},
     "output_type": "execute_result"
    }
   ],
   "source": [
    "arr"
   ]
  },
  {
   "cell_type": "code",
   "execution_count": 49,
   "id": "95c87c98",
   "metadata": {},
   "outputs": [
    {
     "name": "stdout",
     "output_type": "stream",
     "text": [
      "[[ 1  2  3  4]\n",
      " [ 9 10 11 12]]\n"
     ]
    }
   ],
   "source": [
    "# 0행 2행 인덱싱\n",
    "print(arr[[0, 2], ])"
   ]
  },
  {
   "cell_type": "code",
   "execution_count": 50,
   "id": "6d034710",
   "metadata": {},
   "outputs": [
    {
     "name": "stdout",
     "output_type": "stream",
     "text": [
      "[[ 1  2  3  4]\n",
      " [ 9 10 11 12]\n",
      " [13 14 15 16]]\n"
     ]
    }
   ],
   "source": [
    "# 0, 2, 3행 인덱싱\n",
    "print(arr[[0, 2, 3], ])"
   ]
  },
  {
   "cell_type": "code",
   "execution_count": null,
   "id": "f0d2b8df",
   "metadata": {},
   "outputs": [],
   "source": []
  }
 ],
 "metadata": {
  "kernelspec": {
   "display_name": ".venv",
   "language": "python",
   "name": "python3"
  },
  "language_info": {
   "codemirror_mode": {
    "name": "ipython",
    "version": 3
   },
   "file_extension": ".py",
   "mimetype": "text/x-python",
   "name": "python",
   "nbconvert_exporter": "python",
   "pygments_lexer": "ipython3",
   "version": "3.13.5"
  }
 },
 "nbformat": 4,
 "nbformat_minor": 5
}
