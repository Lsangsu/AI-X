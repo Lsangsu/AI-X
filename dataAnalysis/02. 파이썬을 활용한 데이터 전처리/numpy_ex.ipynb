{
 "cells": [
  {
   "cell_type": "code",
   "execution_count": null,
   "id": "c8b2efdf",
   "metadata": {},
   "outputs": [],
   "source": [
    "# 라이브러리 불러오기\n",
    "import numpy\n",
    "import pandas\n",
    "import matplotlib.pyplot\n",
    "import seaborn"
   ]
  },
  {
   "cell_type": "code",
   "execution_count": 2,
   "id": "5ffdf307",
   "metadata": {},
   "outputs": [
    {
     "data": {
      "text/plain": [
       "array([2, 2])"
      ]
     },
     "execution_count": 2,
     "metadata": {},
     "output_type": "execute_result"
    }
   ],
   "source": [
    "numpy.array((2,2))"
   ]
  },
  {
   "cell_type": "code",
   "execution_count": 1,
   "id": "2bf2f199",
   "metadata": {},
   "outputs": [],
   "source": [
    "# alias(별칭) 설정\n",
    "import numpy as np\n",
    "import pandas as pd\n",
    "import matplotlib as plt\n",
    "import seaborn as sns"
   ]
  },
  {
   "cell_type": "code",
   "execution_count": 4,
   "id": "5a5ed5e9",
   "metadata": {},
   "outputs": [
    {
     "data": {
      "text/plain": [
       "array([2, 2])"
      ]
     },
     "execution_count": 4,
     "metadata": {},
     "output_type": "execute_result"
    }
   ],
   "source": [
    "np.array((2,2))"
   ]
  },
  {
   "cell_type": "code",
   "execution_count": 8,
   "id": "eccc81d7",
   "metadata": {},
   "outputs": [
    {
     "name": "stdout",
     "output_type": "stream",
     "text": [
      "[2 3]\n",
      "<class 'numpy.ndarray'>\n"
     ]
    }
   ],
   "source": [
    "array1 = np.array((2, 3))\n",
    "print(array1)\n",
    "print(type(array1))"
   ]
  },
  {
   "cell_type": "markdown",
   "id": "dc37b2c8",
   "metadata": {},
   "source": [
    "## 1. Numpy란?"
   ]
  },
  {
   "cell_type": "code",
   "execution_count": null,
   "id": "1c6d58e9",
   "metadata": {},
   "outputs": [
    {
     "data": {
      "text/plain": [
       "(3,)"
      ]
     },
     "execution_count": 10,
     "metadata": {},
     "output_type": "execute_result"
    }
   ],
   "source": [
    "# 1D array\n",
    "arr1 = np.array([1, 2, 3])\n",
    "np.shape(arr1)   # shape : 데이터가 몇개인지 확인"
   ]
  },
  {
   "cell_type": "code",
   "execution_count": 11,
   "id": "ff11a0f2",
   "metadata": {},
   "outputs": [
    {
     "data": {
      "text/plain": [
       "(3,)"
      ]
     },
     "execution_count": 11,
     "metadata": {},
     "output_type": "execute_result"
    }
   ],
   "source": [
    "arr1.shape"
   ]
  },
  {
   "cell_type": "code",
   "execution_count": null,
   "id": "33e92ee0",
   "metadata": {},
   "outputs": [
    {
     "data": {
      "text/plain": [
       "(2, 3)"
      ]
     },
     "execution_count": 12,
     "metadata": {},
     "output_type": "execute_result"
    }
   ],
   "source": [
    "# 2D array\n",
    "arr2 = np.array([[1, 2, 3], \n",
    "                 [4, 5, 6]])\n",
    "\n",
    "np.shape(arr2)   # (2, 3) : 2행 3열"
   ]
  },
  {
   "cell_type": "code",
   "execution_count": null,
   "id": "1783d262",
   "metadata": {},
   "outputs": [
    {
     "data": {
      "text/plain": [
       "(3, 2, 3)"
      ]
     },
     "execution_count": 14,
     "metadata": {},
     "output_type": "execute_result"
    }
   ],
   "source": [
    "#3D array\n",
    "arr3 = np.array([[[1,2,3],\n",
    "                  [4,5,6]],\n",
    "                 [[7,8,9],\n",
    "                  [10, 11,12]],\n",
    "                 [[13, 14, 15],\n",
    "                  [16, 17, 18]]])\n",
    "\n",
    "arr3.shape   # (3, 2, 3) : 3차원 2행 3열"
   ]
  },
  {
   "cell_type": "markdown",
   "id": "3ce735c1",
   "metadata": {},
   "source": [
    "------------\n",
    "\n",
    "## 3-2. 배열(array) 데이터 슬라이싱과 정렬"
   ]
  },
  {
   "cell_type": "markdown",
   "id": "8d98f4a4",
   "metadata": {
    "vscode": {
     "languageId": "plaintext"
    }
   },
   "source": [
    "### 배열 생성하기"
   ]
  },
  {
   "cell_type": "code",
   "execution_count": 4,
   "id": "5a0c0345",
   "metadata": {},
   "outputs": [
    {
     "name": "stdout",
     "output_type": "stream",
     "text": [
      "<class 'list'>\n",
      "[1 2 3]\n",
      "<class 'numpy.ndarray'>\n"
     ]
    }
   ],
   "source": [
    "mylist = [1, 2, 3]\n",
    "a = np.array(mylist)\n",
    "print(type(mylist))\n",
    "print(a)\n",
    "print(type(a))"
   ]
  },
  {
   "cell_type": "code",
   "execution_count": 5,
   "id": "c3daf9d1",
   "metadata": {},
   "outputs": [
    {
     "data": {
      "text/plain": [
       "array([[1, 2, 3],\n",
       "       [4, 5, 6]])"
      ]
     },
     "execution_count": 5,
     "metadata": {},
     "output_type": "execute_result"
    }
   ],
   "source": [
    "mylist = [[1, 2,3], [4, 5, 6]]\n",
    "np.array(mylist)"
   ]
  },
  {
   "cell_type": "markdown",
   "id": "866cfd85",
   "metadata": {},
   "source": [
    "### 데이터 타입 지정"
   ]
  },
  {
   "cell_type": "code",
   "execution_count": 6,
   "id": "61df16d1",
   "metadata": {},
   "outputs": [
    {
     "data": {
      "text/plain": [
       "array([1, 2, 3])"
      ]
     },
     "execution_count": 6,
     "metadata": {},
     "output_type": "execute_result"
    }
   ],
   "source": [
    "np.array([1, 2, 3], dtype = int)"
   ]
  },
  {
   "cell_type": "code",
   "execution_count": 7,
   "id": "e1806869",
   "metadata": {},
   "outputs": [
    {
     "data": {
      "text/plain": [
       "dtype('int64')"
      ]
     },
     "execution_count": 7,
     "metadata": {},
     "output_type": "execute_result"
    }
   ],
   "source": [
    "a = np.array([1, 2, 3], dtype = int)\n",
    "a.dtype"
   ]
  },
  {
   "cell_type": "code",
   "execution_count": 8,
   "id": "8610952f",
   "metadata": {},
   "outputs": [
    {
     "data": {
      "text/plain": [
       "array([1., 2., 3.])"
      ]
     },
     "execution_count": 8,
     "metadata": {},
     "output_type": "execute_result"
    }
   ],
   "source": [
    "np.array([1, 2, 3], dtype = float)"
   ]
  },
  {
   "cell_type": "code",
   "execution_count": 9,
   "id": "25009020",
   "metadata": {},
   "outputs": [
    {
     "data": {
      "text/plain": [
       "dtype('float64')"
      ]
     },
     "execution_count": 9,
     "metadata": {},
     "output_type": "execute_result"
    }
   ],
   "source": [
    "b = np.array([1, 2, 3], dtype = float)\n",
    "b.dtype"
   ]
  },
  {
   "cell_type": "code",
   "execution_count": 11,
   "id": "a9de0b16",
   "metadata": {},
   "outputs": [
    {
     "data": {
      "text/plain": [
       "array(['1', '2', '3'], dtype='<U1')"
      ]
     },
     "execution_count": 11,
     "metadata": {},
     "output_type": "execute_result"
    }
   ],
   "source": [
    "np.array(['1', '2', '3'])   #<U1 : 유니코드, 길이가 1인 문자"
   ]
  },
  {
   "cell_type": "code",
   "execution_count": null,
   "id": "0ef491a8",
   "metadata": {},
   "outputs": [
    {
     "data": {
      "text/plain": [
       "array(['ab', 'cd', 'ef'], dtype='<U2')"
      ]
     },
     "execution_count": 12,
     "metadata": {},
     "output_type": "execute_result"
    }
   ],
   "source": [
    "np.array(['ab', 'cd', 'ef'])"
   ]
  },
  {
   "cell_type": "code",
   "execution_count": 13,
   "id": "88f4892e",
   "metadata": {},
   "outputs": [
    {
     "data": {
      "text/plain": [
       "array([1, 2, 3])"
      ]
     },
     "execution_count": 13,
     "metadata": {},
     "output_type": "execute_result"
    }
   ],
   "source": [
    "np.array(['1', '2', '3'], dtype = int)"
   ]
  },
  {
   "cell_type": "markdown",
   "id": "cc4386d1",
   "metadata": {},
   "source": [
    "### 자체 생성 함수"
   ]
  },
  {
   "cell_type": "code",
   "execution_count": 15,
   "id": "1a2c401b",
   "metadata": {},
   "outputs": [
    {
     "name": "stdout",
     "output_type": "stream",
     "text": [
      "[[1. 1. 1.]\n",
      " [1. 1. 1.]\n",
      " [1. 1. 1.]]\n",
      "float64\n"
     ]
    }
   ],
   "source": [
    "# 값이 1로 채워진 배열 생성 : ones()\n",
    "a = np.ones((3, 3))\n",
    "print(a)\n",
    "print(a.dtype)"
   ]
  },
  {
   "cell_type": "code",
   "execution_count": 16,
   "id": "e29cb296",
   "metadata": {},
   "outputs": [
    {
     "data": {
      "text/plain": [
       "array([[1, 1, 1],\n",
       "       [1, 1, 1],\n",
       "       [1, 1, 1]])"
      ]
     },
     "execution_count": 16,
     "metadata": {},
     "output_type": "execute_result"
    }
   ],
   "source": [
    "np.ones((3, 3), dtype = int)"
   ]
  },
  {
   "cell_type": "code",
   "execution_count": 17,
   "id": "19909ee4",
   "metadata": {},
   "outputs": [
    {
     "data": {
      "text/plain": [
       "array([[0., 0., 0.],\n",
       "       [0., 0., 0.],\n",
       "       [0., 0., 0.]])"
      ]
     },
     "execution_count": 17,
     "metadata": {},
     "output_type": "execute_result"
    }
   ],
   "source": [
    "# 값이 0으로 채워진 배열 생성 : zeros()\n",
    "np.zeros((3, 3))"
   ]
  },
  {
   "cell_type": "code",
   "execution_count": 19,
   "id": "c66c7c87",
   "metadata": {},
   "outputs": [
    {
     "data": {
      "text/plain": [
       "array([[1., 0., 0.],\n",
       "       [0., 1., 0.],\n",
       "       [0., 0., 1.]])"
      ]
     },
     "execution_count": 19,
     "metadata": {},
     "output_type": "execute_result"
    }
   ],
   "source": [
    "# 단위 행렬 만들기 : eye()\n",
    "np.eye(3, 3)"
   ]
  },
  {
   "cell_type": "code",
   "execution_count": 20,
   "id": "ef95e5d3",
   "metadata": {},
   "outputs": [
    {
     "data": {
      "text/plain": [
       "array([[10, 10, 10],\n",
       "       [10, 10, 10],\n",
       "       [10, 10, 10]])"
      ]
     },
     "execution_count": 20,
     "metadata": {},
     "output_type": "execute_result"
    }
   ],
   "source": [
    "# 사용자가 지정한 값으로 채워진 배열 생성 : full()\n",
    "np.full((3, 3), 10)"
   ]
  },
  {
   "cell_type": "code",
   "execution_count": 21,
   "id": "b9a0519b",
   "metadata": {},
   "outputs": [
    {
     "data": {
      "text/plain": [
       "array([[0.06145676, 0.9610377 , 0.71454124],\n",
       "       [0.82969321, 0.48463857, 0.94653315],\n",
       "       [0.16640609, 0.83381177, 0.88688182]])"
      ]
     },
     "execution_count": 21,
     "metadata": {},
     "output_type": "execute_result"
    }
   ],
   "source": [
    "# 랜덤 값 : random.rand()\n",
    "np.random.rand(3,3)"
   ]
  },
  {
   "cell_type": "markdown",
   "id": "ff3b2817",
   "metadata": {},
   "source": [
    "### 등간격 배열 생성 : arange(), linspace()"
   ]
  },
  {
   "cell_type": "code",
   "execution_count": 26,
   "id": "a288a1da",
   "metadata": {},
   "outputs": [
    {
     "data": {
      "text/plain": [
       "array([0, 1, 2, 3, 4, 5, 6, 7, 8, 9])"
      ]
     },
     "execution_count": 26,
     "metadata": {},
     "output_type": "execute_result"
    }
   ],
   "source": [
    "# arange() : 끝값 포함 X\n",
    "np.arange(10)"
   ]
  },
  {
   "cell_type": "code",
   "execution_count": 24,
   "id": "e43cfff0",
   "metadata": {},
   "outputs": [
    {
     "data": {
      "text/plain": [
       "array([2, 3, 4, 5, 6, 7, 8, 9])"
      ]
     },
     "execution_count": 24,
     "metadata": {},
     "output_type": "execute_result"
    }
   ],
   "source": [
    "np.arange(2, 10)"
   ]
  },
  {
   "cell_type": "code",
   "execution_count": 28,
   "id": "1f47fe4d",
   "metadata": {},
   "outputs": [
    {
     "data": {
      "text/plain": [
       "array([2, 4, 6, 8])"
      ]
     },
     "execution_count": 28,
     "metadata": {},
     "output_type": "execute_result"
    }
   ],
   "source": [
    "np.arange(2, 10, 2)      # arange(start, end, skip)"
   ]
  },
  {
   "cell_type": "code",
   "execution_count": 29,
   "id": "f713171b",
   "metadata": {},
   "outputs": [
    {
     "data": {
      "text/plain": [
       "array([ 1.  ,  3.25,  5.5 ,  7.75, 10.  ])"
      ]
     },
     "execution_count": 29,
     "metadata": {},
     "output_type": "execute_result"
    }
   ],
   "source": [
    "# linspace() : 끝값 포함\n",
    "np.linspace(1, 10, 5)   # linspace(start, end, 요소갯수)"
   ]
  },
  {
   "cell_type": "code",
   "execution_count": 33,
   "id": "54a2d53f",
   "metadata": {},
   "outputs": [
    {
     "name": "stdout",
     "output_type": "stream",
     "text": [
      "[0 1 2 3 4 5 6 7 8 9]\n",
      "a:  (10,)\n",
      "[[0 1 2 3 4]\n",
      " [5 6 7 8 9]]\n",
      "b:  (2, 5)\n"
     ]
    }
   ],
   "source": [
    "# 배열의 모양 바꾸기 : reshape()\n",
    "a = np.arange(10)\n",
    "print(a)\n",
    "print('a: ', a.shape)\n",
    "\n",
    "b = np.arange(10).reshape(2, 5)\n",
    "print(b)\n",
    "print('b: ', b.shape)"
   ]
  },
  {
   "cell_type": "code",
   "execution_count": 37,
   "id": "28eae5f3",
   "metadata": {},
   "outputs": [
    {
     "name": "stdout",
     "output_type": "stream",
     "text": [
      "[[0 1 2 3 4]\n",
      " [5 6 7 8 9]]\n",
      "c:  (2, 5)\n",
      "[[0 1]\n",
      " [2 3]\n",
      " [4 5]\n",
      " [6 7]\n",
      " [8 9]]\n",
      "d:  (5, 2)\n"
     ]
    }
   ],
   "source": [
    "c = np.arange(10).reshape(-1, 5)   # 5열로 만들고 행은 알아서 설정\n",
    "print(c)\n",
    "print('c: ', c.shape)\n",
    "\n",
    "d = np.arange(10).reshape(5, -1)   # 5행으로 만들고 열은 알아서 설정\n",
    "print(d)\n",
    "print('d: ', d.shape)"
   ]
  },
  {
   "cell_type": "markdown",
   "id": "2d6ce4fd",
   "metadata": {},
   "source": [
    "### 슬라이싱"
   ]
  },
  {
   "cell_type": "code",
   "execution_count": 38,
   "id": "15ec8f0c",
   "metadata": {},
   "outputs": [
    {
     "data": {
      "text/plain": [
       "array([[ 1,  2,  3,  4],\n",
       "       [ 5,  6,  7,  8],\n",
       "       [ 9, 10, 11, 12],\n",
       "       [13, 14, 15, 16]])"
      ]
     },
     "execution_count": 38,
     "metadata": {},
     "output_type": "execute_result"
    }
   ],
   "source": [
    "arr = np.array([[1, 2, 3, 4],\n",
    "                [5, 6, 7, 8],\n",
    "                [9, 10, 11, 12],\n",
    "                [13, 14, 15, 16]])\n",
    "\n",
    "arr"
   ]
  },
  {
   "cell_type": "code",
   "execution_count": 40,
   "id": "eaa90bb4",
   "metadata": {},
   "outputs": [
    {
     "data": {
      "text/plain": [
       "array([[ 1,  2,  3,  4],\n",
       "       [ 5,  6,  7,  8],\n",
       "       [ 9, 10, 11, 12],\n",
       "       [13, 14, 15, 16]])"
      ]
     },
     "execution_count": 40,
     "metadata": {},
     "output_type": "execute_result"
    }
   ],
   "source": [
    "arr = np.arange(1, 17).reshape(4, -1)\n",
    "arr"
   ]
  },
  {
   "cell_type": "code",
   "execution_count": 42,
   "id": "5f3182f5",
   "metadata": {},
   "outputs": [
    {
     "name": "stdout",
     "output_type": "stream",
     "text": [
      "[1 2 3 4]\n",
      "[1 2 3 4]\n",
      "[3 4]\n"
     ]
    }
   ],
   "source": [
    "# 행 기준 슬라이싱\n",
    "print(arr[0])\n",
    "print(arr[0, :])     # 0행의 모든열\n",
    "print(arr[0, 2:4])   # 0행의 2~3열"
   ]
  },
  {
   "cell_type": "code",
   "execution_count": 43,
   "id": "a09e4348",
   "metadata": {},
   "outputs": [
    {
     "name": "stdout",
     "output_type": "stream",
     "text": [
      "[ 1  5  9 13]\n",
      "[ 3  7 11 15]\n",
      "[ 7 11]\n"
     ]
    }
   ],
   "source": [
    "# 열 기준 슬라이싱\n",
    "print(arr[:, 0])\n",
    "print(arr[:, 2])\n",
    "print(arr[1:3, 2])"
   ]
  },
  {
   "cell_type": "code",
   "execution_count": 44,
   "id": "6db039cb",
   "metadata": {},
   "outputs": [
    {
     "name": "stdout",
     "output_type": "stream",
     "text": [
      "[[ 1  2  3  4]\n",
      " [ 9 10 11 12]]\n",
      "[[ 5  6  7  8]\n",
      " [ 9 10 11 12]]\n",
      "[[ 2  3]\n",
      " [ 6  7]\n",
      " [10 11]\n",
      " [14 15]]\n"
     ]
    }
   ],
   "source": [
    "# 간격을 지정해서 슬라이싱\n",
    "print(arr[::2])\n",
    "print(arr[1:3])\n",
    "print(arr[:, 1:3])"
   ]
  },
  {
   "cell_type": "code",
   "execution_count": 45,
   "id": "54c0f823",
   "metadata": {},
   "outputs": [
    {
     "name": "stdout",
     "output_type": "stream",
     "text": [
      "[ 4  8 12 16]\n"
     ]
    }
   ],
   "source": [
    "# 마지막열 슬라이싱\n",
    "print(arr[:, -1])"
   ]
  },
  {
   "cell_type": "code",
   "execution_count": 47,
   "id": "c70bbae4",
   "metadata": {},
   "outputs": [
    {
     "name": "stdout",
     "output_type": "stream",
     "text": [
      "[[2 3]\n",
      " [6 7]]\n"
     ]
    }
   ],
   "source": [
    "#0, 1행 과 1, 2열 슬라이싱\n",
    "print(arr[0:2, 1:3])"
   ]
  },
  {
   "cell_type": "markdown",
   "id": "dc84e8bd",
   "metadata": {},
   "source": [
    "### fancy 인덱싱"
   ]
  },
  {
   "cell_type": "code",
   "execution_count": 48,
   "id": "3c86dc98",
   "metadata": {},
   "outputs": [
    {
     "data": {
      "text/plain": [
       "array([[ 1,  2,  3,  4],\n",
       "       [ 5,  6,  7,  8],\n",
       "       [ 9, 10, 11, 12],\n",
       "       [13, 14, 15, 16]])"
      ]
     },
     "execution_count": 48,
     "metadata": {},
     "output_type": "execute_result"
    }
   ],
   "source": [
    "arr"
   ]
  },
  {
   "cell_type": "code",
   "execution_count": 49,
   "id": "95c87c98",
   "metadata": {},
   "outputs": [
    {
     "name": "stdout",
     "output_type": "stream",
     "text": [
      "[[ 1  2  3  4]\n",
      " [ 9 10 11 12]]\n"
     ]
    }
   ],
   "source": [
    "# 0행 2행 인덱싱\n",
    "print(arr[[0, 2], ])"
   ]
  },
  {
   "cell_type": "code",
   "execution_count": 50,
   "id": "6d034710",
   "metadata": {},
   "outputs": [
    {
     "name": "stdout",
     "output_type": "stream",
     "text": [
      "[[ 1  2  3  4]\n",
      " [ 9 10 11 12]\n",
      " [13 14 15 16]]\n"
     ]
    }
   ],
   "source": [
    "# 0, 2, 3행 인덱싱\n",
    "print(arr[[0, 2, 3], ])"
   ]
  },
  {
   "cell_type": "code",
   "execution_count": 3,
   "id": "a66ad9cd",
   "metadata": {},
   "outputs": [
    {
     "data": {
      "text/plain": [
       "array([[ 1,  2,  3,  4],\n",
       "       [ 5,  6,  7,  8],\n",
       "       [ 9, 10, 11, 12],\n",
       "       [13, 14, 15, 16]])"
      ]
     },
     "execution_count": 3,
     "metadata": {},
     "output_type": "execute_result"
    }
   ],
   "source": [
    "import numpy as np\n",
    "import pandas as pd\n",
    "import matplotlib as plt\n",
    "import seaborn as sns\n",
    "\n",
    "arr = np.arange(1, 17).reshape(4, -1)\n",
    "arr"
   ]
  },
  {
   "cell_type": "code",
   "execution_count": null,
   "id": "f0d2b8df",
   "metadata": {},
   "outputs": [
    {
     "name": "stdout",
     "output_type": "stream",
     "text": [
      "[[ 1  2  3  4]\n",
      " [ 5  6  7  8]\n",
      " [ 9 10 11 12]\n",
      " [13 14 15 16]]\n",
      "[ 6 12]\n"
     ]
    }
   ],
   "source": [
    "# 1행 1열, 2행 3열 인덱싱\n",
    "print(arr)\n",
    "\n",
    "print(arr[[1, 2], [1, 3]])   #1행 1열에서 겹친는 부분 + 2행 3열에서 겹치는 부분 출력"
   ]
  },
  {
   "cell_type": "markdown",
   "id": "9200f461",
   "metadata": {},
   "source": [
    "### Boolean 인덱싱"
   ]
  },
  {
   "cell_type": "code",
   "execution_count": 21,
   "id": "4cd19286",
   "metadata": {},
   "outputs": [
    {
     "data": {
      "text/plain": [
       "array([[ 1,  2,  3,  4],\n",
       "       [ 5,  6,  7,  8],\n",
       "       [ 9, 10, 11, 12],\n",
       "       [13, 14, 15, 16]])"
      ]
     },
     "execution_count": 21,
     "metadata": {},
     "output_type": "execute_result"
    }
   ],
   "source": [
    "arr"
   ]
  },
  {
   "cell_type": "code",
   "execution_count": 22,
   "id": "433576c9",
   "metadata": {},
   "outputs": [],
   "source": [
    "# boolean 배열\n",
    "bool = np.array([[True, True, True, True],\n",
    "                [False, False, False, False],\n",
    "                [True, True, True, True],\n",
    "                [False, False, False, False]])"
   ]
  },
  {
   "cell_type": "code",
   "execution_count": 23,
   "id": "71b9c62f",
   "metadata": {},
   "outputs": [
    {
     "name": "stdout",
     "output_type": "stream",
     "text": [
      "[ 1  2  3  4  9 10 11 12]\n"
     ]
    }
   ],
   "source": [
    "print(arr[bool])   # bool 배열 상 True인 부분만 뽑아서 출력"
   ]
  },
  {
   "cell_type": "code",
   "execution_count": 24,
   "id": "9981937e",
   "metadata": {},
   "outputs": [
    {
     "name": "stdout",
     "output_type": "stream",
     "text": [
      "[[[5 6 7 8]\n",
      "  [5 6 7 8]\n",
      "  [5 6 7 8]\n",
      "  [5 6 7 8]]\n",
      "\n",
      " [[1 2 3 4]\n",
      "  [1 2 3 4]\n",
      "  [1 2 3 4]\n",
      "  [1 2 3 4]]\n",
      "\n",
      " [[5 6 7 8]\n",
      "  [5 6 7 8]\n",
      "  [5 6 7 8]\n",
      "  [5 6 7 8]]\n",
      "\n",
      " [[1 2 3 4]\n",
      "  [1 2 3 4]\n",
      "  [1 2 3 4]\n",
      "  [1 2 3 4]]]\n"
     ]
    }
   ],
   "source": [
    "bool2 = np.array([[1, 1, 1, 1],     # 1행 4번, 0행 4번, 1행 4번, 0행 4번 출력\n",
    "                [0, 0, 0, 0],\n",
    "                [1, 1, 1, 1],\n",
    "                [0, 0, 0, 0]])\n",
    "\n",
    "print(arr[bool2])"
   ]
  },
  {
   "cell_type": "code",
   "execution_count": 25,
   "id": "e0345b65",
   "metadata": {},
   "outputs": [
    {
     "name": "stdout",
     "output_type": "stream",
     "text": [
      "[[ 1  2  3  4]\n",
      " [ 5  6  7  8]\n",
      " [ 9 10 11 12]\n",
      " [13 14 15 16]]\n",
      "[[False False False False]\n",
      " [False False False False]\n",
      " [False False  True  True]\n",
      " [ True  True  True  True]]\n"
     ]
    }
   ],
   "source": [
    "# boolean 배열 생성\n",
    "print(arr)\n",
    "\n",
    "print(arr>10)"
   ]
  },
  {
   "cell_type": "code",
   "execution_count": 26,
   "id": "b0eca9a0",
   "metadata": {},
   "outputs": [
    {
     "data": {
      "text/plain": [
       "array([1, 2, 3, 4, 5, 6, 7, 8, 9])"
      ]
     },
     "execution_count": 26,
     "metadata": {},
     "output_type": "execute_result"
    }
   ],
   "source": [
    "arr[arr<10]"
   ]
  },
  {
   "cell_type": "code",
   "execution_count": 27,
   "id": "9c8b3827",
   "metadata": {},
   "outputs": [],
   "source": [
    "#numpy cheat sheet (함수가 정리된 시트 모음)"
   ]
  },
  {
   "cell_type": "markdown",
   "id": "a9995c6f",
   "metadata": {},
   "source": [
    "### 유용한 Numpy 함수\n",
    "###### numpy cheat sheet (함수가 정리된 시트 모음) 사이트 참고"
   ]
  },
  {
   "cell_type": "code",
   "execution_count": 30,
   "id": "8f435a05",
   "metadata": {},
   "outputs": [
    {
     "data": {
      "text/plain": [
       "array([[ 1,  2,  3,  4],\n",
       "       [ 5,  6,  7,  8],\n",
       "       [ 9, 10, 11, 12],\n",
       "       [13, 14, 15, 16]])"
      ]
     },
     "execution_count": 30,
     "metadata": {},
     "output_type": "execute_result"
    }
   ],
   "source": [
    "arr"
   ]
  },
  {
   "cell_type": "code",
   "execution_count": 28,
   "id": "dcbdd0ca",
   "metadata": {},
   "outputs": [
    {
     "name": "stdout",
     "output_type": "stream",
     "text": [
      "1 16\n",
      "1 16\n"
     ]
    }
   ],
   "source": [
    "# 최소값, 최대값\n",
    "print(np.min(arr), np.max(arr))\n",
    "print(arr.min(), arr.max())"
   ]
  },
  {
   "cell_type": "code",
   "execution_count": 31,
   "id": "9febc6e6",
   "metadata": {},
   "outputs": [
    {
     "name": "stdout",
     "output_type": "stream",
     "text": [
      "0 15\n",
      "0 15\n"
     ]
    }
   ],
   "source": [
    "# 최소값, 최대값 인덱스\n",
    "print(np.argmin(arr), np.argmax(arr))\n",
    "print(arr.argmin(), arr.argmax())"
   ]
  },
  {
   "cell_type": "code",
   "execution_count": null,
   "id": "7b9c03c3",
   "metadata": {},
   "outputs": [
    {
     "name": "stdout",
     "output_type": "stream",
     "text": [
      "136 8.5 8.5\n",
      "136 8.5\n"
     ]
    }
   ],
   "source": [
    "# 전체 합, 평균, 중간값\n",
    "print(np.sum(arr), np.mean(arr), np.median(arr))\n",
    "print(arr.sum(), arr.mean())   # median()은 넘파이 함수로만 제공"
   ]
  },
  {
   "cell_type": "code",
   "execution_count": 35,
   "id": "255ec241",
   "metadata": {},
   "outputs": [
    {
     "name": "stdout",
     "output_type": "stream",
     "text": [
      "(array([1]), array([0]))\n"
     ]
    }
   ],
   "source": [
    "# 특정 값 인덱스\n",
    "print(np.where(arr==5))"
   ]
  },
  {
   "cell_type": "markdown",
   "id": "b7b8cf66",
   "metadata": {},
   "source": [
    "### 배열차원변환"
   ]
  },
  {
   "cell_type": "code",
   "execution_count": 36,
   "id": "002052c6",
   "metadata": {},
   "outputs": [
    {
     "data": {
      "text/plain": [
       "array([0, 1, 2, 3, 4, 5, 6, 7, 8, 9])"
      ]
     },
     "execution_count": 36,
     "metadata": {},
     "output_type": "execute_result"
    }
   ],
   "source": [
    "arr1 = np.arange(10)\n",
    "arr1"
   ]
  },
  {
   "cell_type": "code",
   "execution_count": 38,
   "id": "e5eff3da",
   "metadata": {},
   "outputs": [
    {
     "data": {
      "text/plain": [
       "array([[0, 1, 2, 3, 4],\n",
       "       [5, 6, 7, 8, 9]])"
      ]
     },
     "execution_count": 38,
     "metadata": {},
     "output_type": "execute_result"
    }
   ],
   "source": [
    "arr2 = arr1.reshape(2, 5)\n",
    "arr2"
   ]
  },
  {
   "cell_type": "code",
   "execution_count": 42,
   "id": "b78f47a7",
   "metadata": {},
   "outputs": [
    {
     "name": "stdout",
     "output_type": "stream",
     "text": [
      "[0, 1, 2, 3, 4, 5, 6, 7, 8, 9]\n",
      "<class 'list'>\n"
     ]
    }
   ],
   "source": [
    "# 1. 리스트로 타입을 변환\n",
    "\n",
    "list = arr1.tolist()\n",
    "print(list)\n",
    "print(type(list))"
   ]
  },
  {
   "cell_type": "code",
   "execution_count": 43,
   "id": "bf9509c3",
   "metadata": {},
   "outputs": [
    {
     "name": "stdout",
     "output_type": "stream",
     "text": [
      "[0, 1, 2, 3, 4, 5, 6, 7, 8, 9]\n"
     ]
    }
   ],
   "source": [
    "list = arr1.reshape(-1).tolist()\n",
    "print(list)"
   ]
  },
  {
   "cell_type": "code",
   "execution_count": 44,
   "id": "851ede68",
   "metadata": {},
   "outputs": [
    {
     "name": "stdout",
     "output_type": "stream",
     "text": [
      "[[0 1 2 3 4]\n",
      " [5 6 7 8 9]]\n",
      "[0 1 2 3 4 5 6 7 8 9]\n",
      "(10,)\n"
     ]
    }
   ],
   "source": [
    "# 2. flatten() 메서드 사용\n",
    "print(arr2)\n",
    "arr1 = arr2.flatten()\n",
    "print(arr1)\n",
    "print(arr1.shape)"
   ]
  },
  {
   "cell_type": "markdown",
   "id": "ec0b610c",
   "metadata": {},
   "source": [
    "### 정렬 : np.sort()"
   ]
  },
  {
   "cell_type": "code",
   "execution_count": 46,
   "id": "4d465695",
   "metadata": {},
   "outputs": [
    {
     "name": "stdout",
     "output_type": "stream",
     "text": [
      "[ 3  6  9  1  2  4  7  8  5 10]\n",
      "[ 1  2  3  4  5  6  7  8  9 10]\n",
      "[ 3  6  9  1  2  4  7  8  5 10]\n"
     ]
    }
   ],
   "source": [
    "# 1차원 정렬\n",
    "\n",
    "arr = np.array([3, 6, 9, 1, 2, 4, 7, 8, 5, 10])\n",
    "print(arr)\n",
    "print(np.sort(arr))   # 원본 데이터는 변경되지 않음\n",
    "print(arr)"
   ]
  },
  {
   "cell_type": "code",
   "execution_count": null,
   "id": "803092df",
   "metadata": {},
   "outputs": [
    {
     "name": "stdout",
     "output_type": "stream",
     "text": [
      "[ 1  2  3  4  5  6  7  8  9 10]\n"
     ]
    }
   ],
   "source": [
    "arr.sort()   # 원본 데이터가 변경됨\n",
    "print(arr)"
   ]
  },
  {
   "cell_type": "code",
   "execution_count": 48,
   "id": "eb98ab29",
   "metadata": {},
   "outputs": [
    {
     "name": "stdout",
     "output_type": "stream",
     "text": [
      "[10  9  8  7  6  5  4  3  2  1]\n",
      "[ 1  2  3  4  5  6  7  8  9 10]\n"
     ]
    }
   ],
   "source": [
    "# 내림차순으로 정렬\n",
    "\n",
    "print(np.sort(arr)[::-1])\n",
    "print(arr)"
   ]
  },
  {
   "cell_type": "code",
   "execution_count": 49,
   "id": "855ccdc6",
   "metadata": {},
   "outputs": [
    {
     "name": "stdout",
     "output_type": "stream",
     "text": [
      "[[10  6  2  2]\n",
      " [ 6 16  6  7]\n",
      " [ 2  3  8 16]\n",
      " [14 13  8  5]]\n"
     ]
    }
   ],
   "source": [
    "# N 차원 정렬\n",
    "\n",
    "arr = np.random.randint(1, 17, (4, 4))\n",
    "print(arr)"
   ]
  },
  {
   "cell_type": "code",
   "execution_count": 50,
   "id": "c2f71e7d",
   "metadata": {},
   "outputs": [
    {
     "data": {
      "text/plain": [
       "array([[ 2,  3,  2,  2],\n",
       "       [ 6,  6,  6,  5],\n",
       "       [10, 13,  8,  7],\n",
       "       [14, 16,  8, 16]], dtype=int32)"
      ]
     },
     "execution_count": 50,
     "metadata": {},
     "output_type": "execute_result"
    }
   ],
   "source": [
    "# 행 방향(위에서 아래로)\n",
    "\n",
    "np.sort(arr, axis=0)"
   ]
  },
  {
   "cell_type": "code",
   "execution_count": 51,
   "id": "2e89a73a",
   "metadata": {},
   "outputs": [
    {
     "data": {
      "text/plain": [
       "array([[14, 16,  8, 16],\n",
       "       [10, 13,  8,  7],\n",
       "       [ 6,  6,  6,  5],\n",
       "       [ 2,  3,  2,  2]], dtype=int32)"
      ]
     },
     "execution_count": 51,
     "metadata": {},
     "output_type": "execute_result"
    }
   ],
   "source": [
    "np.sort(arr, axis=0)[::-1]"
   ]
  },
  {
   "cell_type": "code",
   "execution_count": 52,
   "id": "5b15e3f5",
   "metadata": {},
   "outputs": [
    {
     "data": {
      "text/plain": [
       "array([[ 2,  2,  6, 10],\n",
       "       [ 6,  6,  7, 16],\n",
       "       [ 2,  3,  8, 16],\n",
       "       [ 5,  8, 13, 14]], dtype=int32)"
      ]
     },
     "execution_count": 52,
     "metadata": {},
     "output_type": "execute_result"
    }
   ],
   "source": [
    "# 열 방향(좌에서 우로)\n",
    "\n",
    "np.sort(arr, axis=1)"
   ]
  },
  {
   "cell_type": "code",
   "execution_count": 53,
   "id": "8116dc97",
   "metadata": {},
   "outputs": [
    {
     "data": {
      "text/plain": [
       "array([[ 5,  8, 13, 14],\n",
       "       [ 2,  3,  8, 16],\n",
       "       [ 6,  6,  7, 16],\n",
       "       [ 2,  2,  6, 10]], dtype=int32)"
      ]
     },
     "execution_count": 53,
     "metadata": {},
     "output_type": "execute_result"
    }
   ],
   "source": [
    "np.sort(arr, axis=1)[::-1]"
   ]
  },
  {
   "cell_type": "markdown",
   "id": "9582bea0",
   "metadata": {},
   "source": [
    "## 3-3. 행렬(matrix) 연산과 성능"
   ]
  },
  {
   "cell_type": "code",
   "execution_count": 54,
   "id": "442c85dd",
   "metadata": {},
   "outputs": [
    {
     "name": "stdout",
     "output_type": "stream",
     "text": [
      "[[1 2 3]\n",
      " [4 5 6]]\n",
      "[[ 7  8]\n",
      " [ 9 10]\n",
      " [11 12]]\n"
     ]
    }
   ],
   "source": [
    "a = np.arange(1, 7).reshape(-1, 3)\n",
    "print(a)\n",
    "b = np.arange(7, 13).reshape(-1, 2)\n",
    "print(b)"
   ]
  },
  {
   "cell_type": "code",
   "execution_count": 55,
   "id": "8654cbbe",
   "metadata": {},
   "outputs": [
    {
     "name": "stdout",
     "output_type": "stream",
     "text": [
      "(2, 3)\n",
      "----------\n",
      "(3, 2)\n"
     ]
    }
   ],
   "source": [
    "# 행렬 합은 전치(transpose)하여 shape을 맞춘 후 연산\n",
    "\n",
    "print(a.shape)\n",
    "print('-'*10)\n",
    "print(b.shape)"
   ]
  },
  {
   "cell_type": "code",
   "execution_count": null,
   "id": "49f7e181",
   "metadata": {},
   "outputs": [
    {
     "name": "stdout",
     "output_type": "stream",
     "text": [
      "[[1 4]\n",
      " [2 5]\n",
      " [3 6]]\n",
      "(3, 2)\n"
     ]
    }
   ],
   "source": [
    "# a를 전치 (행 / 열 상호 변경)\n",
    "\n",
    "print(a.T)\n",
    "print(a.T.shape)"
   ]
  },
  {
   "cell_type": "code",
   "execution_count": null,
   "id": "64cb5070",
   "metadata": {},
   "outputs": [
    {
     "name": "stdout",
     "output_type": "stream",
     "text": [
      "[[1 2 3]\n",
      " [4 5 6]]\n",
      "[[ 7  8]\n",
      " [ 9 10]\n",
      " [11 12]]\n",
      "----------\n",
      "[[ 8 12]\n",
      " [11 15]\n",
      " [14 18]]\n",
      "[[6 4]\n",
      " [7 5]\n",
      " [8 6]]\n"
     ]
    }
   ],
   "source": [
    "# 전치된 a와 b를 덧셈, 뺄셈 연산\n",
    "print(a)\n",
    "print(b)\n",
    "print('-'*10)\n",
    "print(a.T+b)\n",
    "print(b-a.T)"
   ]
  },
  {
   "cell_type": "code",
   "execution_count": 63,
   "id": "baf993a2",
   "metadata": {},
   "outputs": [
    {
     "name": "stdout",
     "output_type": "stream",
     "text": [
      "[[1 2 3]\n",
      " [4 5 6]]\n",
      "[[ 7  8]\n",
      " [ 9 10]\n",
      " [11 12]]\n",
      "----------\n",
      "[[ 58  64]\n",
      " [139 154]]\n",
      "----------\n",
      "[[ 58  64]\n",
      " [139 154]]\n"
     ]
    }
   ],
   "source": [
    "# 행렬의 곱\n",
    "print(a)\n",
    "print(b)\n",
    "\n",
    "print('-'*10)\n",
    "\n",
    "c = a @ b\n",
    "print(c)\n",
    "\n",
    "print('-'*10)\n",
    "\n",
    "d = np.dot(a, b)\n",
    "print(d)"
   ]
  },
  {
   "cell_type": "code",
   "execution_count": 64,
   "id": "845c26f3",
   "metadata": {},
   "outputs": [
    {
     "name": "stdout",
     "output_type": "stream",
     "text": [
      "[[ 1  2  3  4]\n",
      " [ 5  6  7  8]\n",
      " [ 9 10 11 12]\n",
      " [13 14 15 16]]\n",
      "[[ 1  2  3  4]\n",
      " [ 5  6  7  8]\n",
      " [ 9 10 11 12]\n",
      " [13 14 15 16]]\n"
     ]
    }
   ],
   "source": [
    "arr1 = arr2 = np.arange(1, 17).reshape(4, 4)\n",
    "print(arr1)\n",
    "print(arr2)"
   ]
  },
  {
   "cell_type": "code",
   "execution_count": 65,
   "id": "f27ac288",
   "metadata": {},
   "outputs": [
    {
     "data": {
      "text/plain": [
       "array([[ 2,  4,  6,  8],\n",
       "       [10, 12, 14, 16],\n",
       "       [18, 20, 22, 24],\n",
       "       [26, 28, 30, 32]])"
      ]
     },
     "execution_count": 65,
     "metadata": {},
     "output_type": "execute_result"
    }
   ],
   "source": [
    "arr1 + arr2"
   ]
  },
  {
   "cell_type": "code",
   "execution_count": 66,
   "id": "4e3bd42f",
   "metadata": {},
   "outputs": [
    {
     "data": {
      "text/plain": [
       "array([[0, 0, 0, 0],\n",
       "       [0, 0, 0, 0],\n",
       "       [0, 0, 0, 0],\n",
       "       [0, 0, 0, 0]])"
      ]
     },
     "execution_count": 66,
     "metadata": {},
     "output_type": "execute_result"
    }
   ],
   "source": [
    "arr1 - arr2"
   ]
  },
  {
   "cell_type": "code",
   "execution_count": 69,
   "id": "4da906d3",
   "metadata": {},
   "outputs": [
    {
     "data": {
      "text/plain": [
       "array([[  1,   4,   9,  16],\n",
       "       [ 25,  36,  49,  64],\n",
       "       [ 81, 100, 121, 144],\n",
       "       [169, 196, 225, 256]])"
      ]
     },
     "execution_count": 69,
     "metadata": {},
     "output_type": "execute_result"
    }
   ],
   "source": [
    "# element-wise 연산(shape이 같아야 연산 가능)\n",
    "arr1 * arr2"
   ]
  },
  {
   "cell_type": "code",
   "execution_count": 68,
   "id": "f9fa0bc6",
   "metadata": {},
   "outputs": [
    {
     "data": {
      "text/plain": [
       "array([[1., 1., 1., 1.],\n",
       "       [1., 1., 1., 1.],\n",
       "       [1., 1., 1., 1.],\n",
       "       [1., 1., 1., 1.]])"
      ]
     },
     "execution_count": 68,
     "metadata": {},
     "output_type": "execute_result"
    }
   ],
   "source": [
    "arr1 / arr2"
   ]
  },
  {
   "cell_type": "code",
   "execution_count": 72,
   "id": "94e079c7",
   "metadata": {},
   "outputs": [
    {
     "name": "stdout",
     "output_type": "stream",
     "text": [
      "[[ 90 100 110 120]\n",
      " [202 228 254 280]\n",
      " [314 356 398 440]\n",
      " [426 484 542 600]]\n",
      "[[ 90 100 110 120]\n",
      " [202 228 254 280]\n",
      " [314 356 398 440]\n",
      " [426 484 542 600]]\n"
     ]
    }
   ],
   "source": [
    "# 내적 연산(Dot product)\n",
    "\n",
    "print(np.dot(arr1, arr2))\n",
    "\n",
    "print(arr1@arr2)"
   ]
  },
  {
   "cell_type": "code",
   "execution_count": 73,
   "id": "82156750",
   "metadata": {},
   "outputs": [
    {
     "name": "stdout",
     "output_type": "stream",
     "text": [
      "[[1 2 3 4]\n",
      " [5 6 7 8]]\n",
      "[[ 1  2]\n",
      " [ 5  6]\n",
      " [ 9 10]\n",
      " [13 14]]\n"
     ]
    }
   ],
   "source": [
    "arr1 = np.arange(1, 9).reshape(2, -1)\n",
    "arr2 = np.array([[1, 2],\n",
    "                 [5, 6],\n",
    "                 [9, 10],\n",
    "                 [13, 14]])\n",
    "print(arr1)\n",
    "print(arr2)"
   ]
  },
  {
   "cell_type": "code",
   "execution_count": null,
   "id": "fa65a67f",
   "metadata": {},
   "outputs": [
    {
     "data": {
      "text/plain": [
       "array([[ 90, 100],\n",
       "       [202, 228]])"
      ]
     },
     "execution_count": 74,
     "metadata": {},
     "output_type": "execute_result"
    }
   ],
   "source": [
    "np.dot(arr1, arr2)"
   ]
  },
  {
   "cell_type": "markdown",
   "id": "f3f5d216",
   "metadata": {},
   "source": [
    "### 행렬 집계 함수"
   ]
  },
  {
   "cell_type": "code",
   "execution_count": 76,
   "id": "9e8844dc",
   "metadata": {},
   "outputs": [
    {
     "name": "stdout",
     "output_type": "stream",
     "text": [
      "[[ 1  2  3  4]\n",
      " [ 5  6  7  8]\n",
      " [ 9 10 11 12]\n",
      " [13 14 15 16]]\n"
     ]
    }
   ],
   "source": [
    "arr = np.arange(1, 17).reshape(4, 4)\n",
    "print(arr)"
   ]
  },
  {
   "cell_type": "code",
   "execution_count": 77,
   "id": "54083547",
   "metadata": {},
   "outputs": [
    {
     "data": {
      "text/plain": [
       "np.int64(136)"
      ]
     },
     "execution_count": 77,
     "metadata": {},
     "output_type": "execute_result"
    }
   ],
   "source": [
    "# 합계 - 전체\n",
    "\n",
    "np.sum(arr)"
   ]
  },
  {
   "cell_type": "code",
   "execution_count": 78,
   "id": "d548972a",
   "metadata": {},
   "outputs": [
    {
     "data": {
      "text/plain": [
       "array([28, 32, 36, 40])"
      ]
     },
     "execution_count": 78,
     "metadata": {},
     "output_type": "execute_result"
    }
   ],
   "source": [
    "# 합계 - 행방향(위에서 아래로)\n",
    "\n",
    "np.sum(arr, axis=0)"
   ]
  },
  {
   "cell_type": "code",
   "execution_count": 79,
   "id": "f6d0c580",
   "metadata": {},
   "outputs": [
    {
     "data": {
      "text/plain": [
       "array([10, 26, 42, 58])"
      ]
     },
     "execution_count": 79,
     "metadata": {},
     "output_type": "execute_result"
    }
   ],
   "source": [
    "# 합계 - 열방향(좌에서 우로)\n",
    "\n",
    "np.sum(arr, axis=1)"
   ]
  },
  {
   "cell_type": "markdown",
   "id": "9e552728",
   "metadata": {},
   "source": [
    "### Broadcasting 연산"
   ]
  },
  {
   "cell_type": "code",
   "execution_count": 82,
   "id": "3645b382",
   "metadata": {},
   "outputs": [
    {
     "name": "stdout",
     "output_type": "stream",
     "text": [
      "[[[ 0  1]\n",
      "  [ 2  3]\n",
      "  [ 4  5]\n",
      "  [ 6  7]]\n",
      "\n",
      " [[ 8  9]\n",
      "  [10 11]\n",
      "  [12 13]\n",
      "  [14 15]]\n",
      "\n",
      " [[16 17]\n",
      "  [18 19]\n",
      "  [20 21]\n",
      "  [22 23]]]\n",
      "----------\n",
      "[[0 1]\n",
      " [2 3]\n",
      " [4 5]\n",
      " [6 7]]\n",
      "----------\n",
      "(3, 4, 2) (4, 2)\n"
     ]
    }
   ],
   "source": [
    "arr3d = np.arange(0, 24).reshape(-1, 4, 2)\n",
    "arr2d = np.arange(0, 8).reshape(-1, 2)\n",
    "\n",
    "print(arr3d)\n",
    "print('-'*10)\n",
    "print(arr2d)\n",
    "print('-'*10)\n",
    "print(np.shape(arr3d), np.shape(arr2d))"
   ]
  },
  {
   "cell_type": "code",
   "execution_count": 83,
   "id": "9bbf5a5a",
   "metadata": {},
   "outputs": [
    {
     "data": {
      "text/plain": [
       "array([[[ 0,  2],\n",
       "        [ 4,  6],\n",
       "        [ 8, 10],\n",
       "        [12, 14]],\n",
       "\n",
       "       [[ 8, 10],\n",
       "        [12, 14],\n",
       "        [16, 18],\n",
       "        [20, 22]],\n",
       "\n",
       "       [[16, 18],\n",
       "        [20, 22],\n",
       "        [24, 26],\n",
       "        [28, 30]]])"
      ]
     },
     "execution_count": 83,
     "metadata": {},
     "output_type": "execute_result"
    }
   ],
   "source": [
    "arr3d + arr2d"
   ]
  },
  {
   "cell_type": "code",
   "execution_count": 84,
   "id": "f7444fa8",
   "metadata": {},
   "outputs": [
    {
     "name": "stdout",
     "output_type": "stream",
     "text": [
      "[[0 1]\n",
      " [2 3]\n",
      " [4 5]\n",
      " [6 7]]\n",
      "----------\n",
      "[[10 11]\n",
      " [12 13]\n",
      " [14 15]\n",
      " [16 17]]\n"
     ]
    }
   ],
   "source": [
    "print(arr2d)\n",
    "print('-'*10)\n",
    "print(arr2d + 10)"
   ]
  },
  {
   "cell_type": "code",
   "execution_count": 85,
   "id": "94a060f1",
   "metadata": {},
   "outputs": [
    {
     "name": "stdout",
     "output_type": "stream",
     "text": [
      "[[0 1]\n",
      " [2 3]\n",
      " [4 5]\n",
      " [6 7]]\n",
      "----------\n",
      "[[ 0 10]\n",
      " [20 30]\n",
      " [40 50]\n",
      " [60 70]]\n"
     ]
    }
   ],
   "source": [
    "print(arr2d)\n",
    "print('-'*10)\n",
    "print(arr2d * 10)"
   ]
  },
  {
   "cell_type": "code",
   "execution_count": 86,
   "id": "bbca1c0d",
   "metadata": {},
   "outputs": [
    {
     "name": "stdout",
     "output_type": "stream",
     "text": [
      "[[0 1]\n",
      " [2 3]\n",
      " [4 5]\n",
      " [6 7]]\n",
      "----------\n",
      "[[0.  0.1]\n",
      " [0.2 0.3]\n",
      " [0.4 0.5]\n",
      " [0.6 0.7]]\n"
     ]
    }
   ],
   "source": [
    "print(arr2d)\n",
    "print('-'*10)\n",
    "print(arr2d / 10)"
   ]
  },
  {
   "cell_type": "code",
   "execution_count": null,
   "id": "5fd86ef8",
   "metadata": {},
   "outputs": [],
   "source": []
  }
 ],
 "metadata": {
  "kernelspec": {
   "display_name": ".venv",
   "language": "python",
   "name": "python3"
  },
  "language_info": {
   "codemirror_mode": {
    "name": "ipython",
    "version": 3
   },
   "file_extension": ".py",
   "mimetype": "text/x-python",
   "name": "python",
   "nbconvert_exporter": "python",
   "pygments_lexer": "ipython3",
   "version": "3.13.5"
  }
 },
 "nbformat": 4,
 "nbformat_minor": 5
}
