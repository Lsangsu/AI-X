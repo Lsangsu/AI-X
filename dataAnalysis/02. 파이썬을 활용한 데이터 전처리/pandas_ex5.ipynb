{
 "cells": [
  {
   "cell_type": "markdown",
   "id": "fed48cdc",
   "metadata": {},
   "source": [
    "## 3-10. 자료형 변환, 산술 연산"
   ]
  },
  {
   "cell_type": "code",
   "execution_count": 1,
   "id": "6f79db6b",
   "metadata": {},
   "outputs": [],
   "source": [
    "import pandas as pd"
   ]
  },
  {
   "cell_type": "code",
   "execution_count": 23,
   "id": "8b5e5172",
   "metadata": {},
   "outputs": [
    {
     "data": {
      "text/html": [
       "<div>\n",
       "<style scoped>\n",
       "    .dataframe tbody tr th:only-of-type {\n",
       "        vertical-align: middle;\n",
       "    }\n",
       "\n",
       "    .dataframe tbody tr th {\n",
       "        vertical-align: top;\n",
       "    }\n",
       "\n",
       "    .dataframe thead th {\n",
       "        text-align: right;\n",
       "    }\n",
       "</style>\n",
       "<table border=\"1\" class=\"dataframe\">\n",
       "  <thead>\n",
       "    <tr style=\"text-align: right;\">\n",
       "      <th></th>\n",
       "      <th>Profile</th>\n",
       "      <th>Stage Name</th>\n",
       "      <th>Full Name</th>\n",
       "      <th>Korean Name</th>\n",
       "      <th>K. Stage Name</th>\n",
       "      <th>Date of Birth</th>\n",
       "      <th>Group</th>\n",
       "      <th>Country</th>\n",
       "      <th>Second Country</th>\n",
       "      <th>Height</th>\n",
       "      <th>Weight</th>\n",
       "      <th>Birthplace</th>\n",
       "      <th>Other Group</th>\n",
       "      <th>Former Group</th>\n",
       "      <th>Gender</th>\n",
       "      <th>Position</th>\n",
       "      <th>Instagram</th>\n",
       "      <th>Twitter</th>\n",
       "    </tr>\n",
       "  </thead>\n",
       "  <tbody>\n",
       "    <tr>\n",
       "      <th>0</th>\n",
       "      <td>Profile</td>\n",
       "      <td>Taeyeon</td>\n",
       "      <td>Kim Taeyeon</td>\n",
       "      <td>김태연</td>\n",
       "      <td>태연</td>\n",
       "      <td>1989-03-09</td>\n",
       "      <td>SNSD</td>\n",
       "      <td>South Korea</td>\n",
       "      <td>NaN</td>\n",
       "      <td>160</td>\n",
       "      <td>44</td>\n",
       "      <td>Jeonju</td>\n",
       "      <td>TTS, Oh!GG</td>\n",
       "      <td>NaN</td>\n",
       "      <td>F</td>\n",
       "      <td>Leader, Main Vocalist</td>\n",
       "      <td>taeyeon_ss</td>\n",
       "      <td>NaN</td>\n",
       "    </tr>\n",
       "    <tr>\n",
       "      <th>1</th>\n",
       "      <td>NaN</td>\n",
       "      <td>Sunny</td>\n",
       "      <td>Lee Sunkyu</td>\n",
       "      <td>이순규</td>\n",
       "      <td>써니</td>\n",
       "      <td>1989-05-15</td>\n",
       "      <td>SNSD</td>\n",
       "      <td>South Korea</td>\n",
       "      <td>NaN</td>\n",
       "      <td>158</td>\n",
       "      <td>43</td>\n",
       "      <td>California</td>\n",
       "      <td>NaN</td>\n",
       "      <td>NaN</td>\n",
       "      <td>F</td>\n",
       "      <td>NaN</td>\n",
       "      <td>svnnynight</td>\n",
       "      <td>NaN</td>\n",
       "    </tr>\n",
       "    <tr>\n",
       "      <th>2</th>\n",
       "      <td>NaN</td>\n",
       "      <td>Tiffany</td>\n",
       "      <td>Hwang Miyoung</td>\n",
       "      <td>황미영</td>\n",
       "      <td>티파니</td>\n",
       "      <td>1989-08-01</td>\n",
       "      <td>SNSD</td>\n",
       "      <td>South Korea</td>\n",
       "      <td>USA</td>\n",
       "      <td>163</td>\n",
       "      <td>50</td>\n",
       "      <td>San Francisco</td>\n",
       "      <td>TTS</td>\n",
       "      <td>NaN</td>\n",
       "      <td>F</td>\n",
       "      <td>NaN</td>\n",
       "      <td>xolovestephi</td>\n",
       "      <td>NaN</td>\n",
       "    </tr>\n",
       "    <tr>\n",
       "      <th>3</th>\n",
       "      <td>NaN</td>\n",
       "      <td>Hyoyeon</td>\n",
       "      <td>Kim Hyoyeon</td>\n",
       "      <td>김효연</td>\n",
       "      <td>효연</td>\n",
       "      <td>1989-09-22</td>\n",
       "      <td>SNSD</td>\n",
       "      <td>South Korea</td>\n",
       "      <td>NaN</td>\n",
       "      <td>158</td>\n",
       "      <td>48</td>\n",
       "      <td>Incheon</td>\n",
       "      <td>NaN</td>\n",
       "      <td>NaN</td>\n",
       "      <td>F</td>\n",
       "      <td>NaN</td>\n",
       "      <td>watasiwahyo</td>\n",
       "      <td>NaN</td>\n",
       "    </tr>\n",
       "    <tr>\n",
       "      <th>4</th>\n",
       "      <td>NaN</td>\n",
       "      <td>Yuri</td>\n",
       "      <td>Kwon Yuri</td>\n",
       "      <td>권유리</td>\n",
       "      <td>유리</td>\n",
       "      <td>1989-12-05</td>\n",
       "      <td>SNSD</td>\n",
       "      <td>South Korea</td>\n",
       "      <td>NaN</td>\n",
       "      <td>167</td>\n",
       "      <td>45</td>\n",
       "      <td>Goyang</td>\n",
       "      <td>NaN</td>\n",
       "      <td>NaN</td>\n",
       "      <td>F</td>\n",
       "      <td>NaN</td>\n",
       "      <td>yulyulk</td>\n",
       "      <td>NaN</td>\n",
       "    </tr>\n",
       "    <tr>\n",
       "      <th>...</th>\n",
       "      <td>...</td>\n",
       "      <td>...</td>\n",
       "      <td>...</td>\n",
       "      <td>...</td>\n",
       "      <td>...</td>\n",
       "      <td>...</td>\n",
       "      <td>...</td>\n",
       "      <td>...</td>\n",
       "      <td>...</td>\n",
       "      <td>...</td>\n",
       "      <td>...</td>\n",
       "      <td>...</td>\n",
       "      <td>...</td>\n",
       "      <td>...</td>\n",
       "      <td>...</td>\n",
       "      <td>...</td>\n",
       "      <td>...</td>\n",
       "      <td>...</td>\n",
       "    </tr>\n",
       "    <tr>\n",
       "      <th>1589</th>\n",
       "      <td>NaN</td>\n",
       "      <td>Ririka</td>\n",
       "      <td>Kishida Ririka</td>\n",
       "      <td>키시다 리리카</td>\n",
       "      <td>리리카</td>\n",
       "      <td>2002-07-02</td>\n",
       "      <td>ILY:1</td>\n",
       "      <td>Japan</td>\n",
       "      <td>NaN</td>\n",
       "      <td>162</td>\n",
       "      <td>0</td>\n",
       "      <td>NaN</td>\n",
       "      <td>NaN</td>\n",
       "      <td>NaN</td>\n",
       "      <td>F</td>\n",
       "      <td>NaN</td>\n",
       "      <td>NaN</td>\n",
       "      <td>NaN</td>\n",
       "    </tr>\n",
       "    <tr>\n",
       "      <th>1590</th>\n",
       "      <td>NaN</td>\n",
       "      <td>Nayu</td>\n",
       "      <td>Kim Yewon</td>\n",
       "      <td>김예원</td>\n",
       "      <td>나유</td>\n",
       "      <td>2002-07-23</td>\n",
       "      <td>ILY:1</td>\n",
       "      <td>South Korea</td>\n",
       "      <td>NaN</td>\n",
       "      <td>0</td>\n",
       "      <td>0</td>\n",
       "      <td>NaN</td>\n",
       "      <td>NaN</td>\n",
       "      <td>NaN</td>\n",
       "      <td>F</td>\n",
       "      <td>NaN</td>\n",
       "      <td>NaN</td>\n",
       "      <td>NaN</td>\n",
       "    </tr>\n",
       "    <tr>\n",
       "      <th>1591</th>\n",
       "      <td>NaN</td>\n",
       "      <td>Elva</td>\n",
       "      <td>Lee Yonghwa</td>\n",
       "      <td>이용화</td>\n",
       "      <td>엘바</td>\n",
       "      <td>2003-05-05</td>\n",
       "      <td>ILY:1</td>\n",
       "      <td>South Korea</td>\n",
       "      <td>NaN</td>\n",
       "      <td>0</td>\n",
       "      <td>0</td>\n",
       "      <td>NaN</td>\n",
       "      <td>NaN</td>\n",
       "      <td>NaN</td>\n",
       "      <td>F</td>\n",
       "      <td>NaN</td>\n",
       "      <td>NaN</td>\n",
       "      <td>NaN</td>\n",
       "    </tr>\n",
       "    <tr>\n",
       "      <th>1592</th>\n",
       "      <td>NaN</td>\n",
       "      <td>Lily</td>\n",
       "      <td>Lily Jin Morrow</td>\n",
       "      <td>릴리 진 머로우</td>\n",
       "      <td>릴리</td>\n",
       "      <td>2002-10-17</td>\n",
       "      <td>NMIXX</td>\n",
       "      <td>Australia</td>\n",
       "      <td>South Korea</td>\n",
       "      <td>0</td>\n",
       "      <td>0</td>\n",
       "      <td>Marysville</td>\n",
       "      <td>NaN</td>\n",
       "      <td>NaN</td>\n",
       "      <td>F</td>\n",
       "      <td>NaN</td>\n",
       "      <td>NaN</td>\n",
       "      <td>NaN</td>\n",
       "    </tr>\n",
       "    <tr>\n",
       "      <th>1593</th>\n",
       "      <td>NaN</td>\n",
       "      <td>Haewon</td>\n",
       "      <td>Oh Haewon</td>\n",
       "      <td>오해원</td>\n",
       "      <td>해원</td>\n",
       "      <td>2003-02-25</td>\n",
       "      <td>NMIXX</td>\n",
       "      <td>South Korea</td>\n",
       "      <td>NaN</td>\n",
       "      <td>0</td>\n",
       "      <td>0</td>\n",
       "      <td>NaN</td>\n",
       "      <td>NaN</td>\n",
       "      <td>NaN</td>\n",
       "      <td>F</td>\n",
       "      <td>NaN</td>\n",
       "      <td>NaN</td>\n",
       "      <td>NaN</td>\n",
       "    </tr>\n",
       "  </tbody>\n",
       "</table>\n",
       "<p>1594 rows × 18 columns</p>\n",
       "</div>"
      ],
      "text/plain": [
       "      Profile Stage Name        Full Name Korean Name K. Stage Name  \\\n",
       "0     Profile    Taeyeon      Kim Taeyeon         김태연            태연   \n",
       "1         NaN      Sunny       Lee Sunkyu         이순규            써니   \n",
       "2         NaN    Tiffany    Hwang Miyoung         황미영           티파니   \n",
       "3         NaN    Hyoyeon      Kim Hyoyeon         김효연            효연   \n",
       "4         NaN       Yuri        Kwon Yuri         권유리            유리   \n",
       "...       ...        ...              ...         ...           ...   \n",
       "1589      NaN     Ririka   Kishida Ririka     키시다 리리카           리리카   \n",
       "1590      NaN       Nayu        Kim Yewon         김예원            나유   \n",
       "1591      NaN       Elva      Lee Yonghwa         이용화            엘바   \n",
       "1592      NaN       Lily  Lily Jin Morrow    릴리 진 머로우            릴리   \n",
       "1593      NaN     Haewon        Oh Haewon         오해원            해원   \n",
       "\n",
       "     Date of Birth  Group      Country Second Country  Height  Weight  \\\n",
       "0       1989-03-09   SNSD  South Korea            NaN     160      44   \n",
       "1       1989-05-15   SNSD  South Korea            NaN     158      43   \n",
       "2       1989-08-01   SNSD  South Korea            USA     163      50   \n",
       "3       1989-09-22   SNSD  South Korea            NaN     158      48   \n",
       "4       1989-12-05   SNSD  South Korea            NaN     167      45   \n",
       "...            ...    ...          ...            ...     ...     ...   \n",
       "1589    2002-07-02  ILY:1        Japan            NaN     162       0   \n",
       "1590    2002-07-23  ILY:1  South Korea            NaN       0       0   \n",
       "1591    2003-05-05  ILY:1  South Korea            NaN       0       0   \n",
       "1592    2002-10-17  NMIXX    Australia    South Korea       0       0   \n",
       "1593    2003-02-25  NMIXX  South Korea            NaN       0       0   \n",
       "\n",
       "         Birthplace Other Group Former Group Gender               Position  \\\n",
       "0            Jeonju  TTS, Oh!GG          NaN      F  Leader, Main Vocalist   \n",
       "1        California         NaN          NaN      F                    NaN   \n",
       "2     San Francisco         TTS          NaN      F                    NaN   \n",
       "3           Incheon         NaN          NaN      F                    NaN   \n",
       "4            Goyang         NaN          NaN      F                    NaN   \n",
       "...             ...         ...          ...    ...                    ...   \n",
       "1589            NaN         NaN          NaN      F                    NaN   \n",
       "1590            NaN         NaN          NaN      F                    NaN   \n",
       "1591            NaN         NaN          NaN      F                    NaN   \n",
       "1592     Marysville         NaN          NaN      F                    NaN   \n",
       "1593            NaN         NaN          NaN      F                    NaN   \n",
       "\n",
       "         Instagram Twitter  \n",
       "0       taeyeon_ss     NaN  \n",
       "1       svnnynight     NaN  \n",
       "2     xolovestephi     NaN  \n",
       "3      watasiwahyo     NaN  \n",
       "4          yulyulk     NaN  \n",
       "...            ...     ...  \n",
       "1589           NaN     NaN  \n",
       "1590           NaN     NaN  \n",
       "1591           NaN     NaN  \n",
       "1592           NaN     NaN  \n",
       "1593           NaN     NaN  \n",
       "\n",
       "[1594 rows x 18 columns]"
      ]
     },
     "execution_count": 23,
     "metadata": {},
     "output_type": "execute_result"
    }
   ],
   "source": [
    "df = pd.read_csv('kpop_idols.csv')\n",
    "df"
   ]
  },
  {
   "cell_type": "code",
   "execution_count": 24,
   "id": "391e11bd",
   "metadata": {},
   "outputs": [
    {
     "data": {
      "text/html": [
       "<div>\n",
       "<style scoped>\n",
       "    .dataframe tbody tr th:only-of-type {\n",
       "        vertical-align: middle;\n",
       "    }\n",
       "\n",
       "    .dataframe tbody tr th {\n",
       "        vertical-align: top;\n",
       "    }\n",
       "\n",
       "    .dataframe thead th {\n",
       "        text-align: right;\n",
       "    }\n",
       "</style>\n",
       "<table border=\"1\" class=\"dataframe\">\n",
       "  <thead>\n",
       "    <tr style=\"text-align: right;\">\n",
       "      <th></th>\n",
       "      <th>Korean Name</th>\n",
       "      <th>Date of Birth</th>\n",
       "      <th>Height</th>\n",
       "      <th>Weight</th>\n",
       "    </tr>\n",
       "  </thead>\n",
       "  <tbody>\n",
       "    <tr>\n",
       "      <th>0</th>\n",
       "      <td>김태연</td>\n",
       "      <td>1989-03-09</td>\n",
       "      <td>160</td>\n",
       "      <td>44</td>\n",
       "    </tr>\n",
       "    <tr>\n",
       "      <th>1</th>\n",
       "      <td>이순규</td>\n",
       "      <td>1989-05-15</td>\n",
       "      <td>158</td>\n",
       "      <td>43</td>\n",
       "    </tr>\n",
       "    <tr>\n",
       "      <th>2</th>\n",
       "      <td>황미영</td>\n",
       "      <td>1989-08-01</td>\n",
       "      <td>163</td>\n",
       "      <td>50</td>\n",
       "    </tr>\n",
       "    <tr>\n",
       "      <th>3</th>\n",
       "      <td>김효연</td>\n",
       "      <td>1989-09-22</td>\n",
       "      <td>158</td>\n",
       "      <td>48</td>\n",
       "    </tr>\n",
       "    <tr>\n",
       "      <th>4</th>\n",
       "      <td>권유리</td>\n",
       "      <td>1989-12-05</td>\n",
       "      <td>167</td>\n",
       "      <td>45</td>\n",
       "    </tr>\n",
       "    <tr>\n",
       "      <th>5</th>\n",
       "      <td>최수영</td>\n",
       "      <td>1990-02-10</td>\n",
       "      <td>170</td>\n",
       "      <td>48</td>\n",
       "    </tr>\n",
       "    <tr>\n",
       "      <th>6</th>\n",
       "      <td>임윤아</td>\n",
       "      <td>1990-05-30</td>\n",
       "      <td>166</td>\n",
       "      <td>47</td>\n",
       "    </tr>\n",
       "  </tbody>\n",
       "</table>\n",
       "</div>"
      ],
      "text/plain": [
       "  Korean Name Date of Birth  Height  Weight\n",
       "0         김태연    1989-03-09     160      44\n",
       "1         이순규    1989-05-15     158      43\n",
       "2         황미영    1989-08-01     163      50\n",
       "3         김효연    1989-09-22     158      48\n",
       "4         권유리    1989-12-05     167      45\n",
       "5         최수영    1990-02-10     170      48\n",
       "6         임윤아    1990-05-30     166      47"
      ]
     },
     "execution_count": 24,
     "metadata": {},
     "output_type": "execute_result"
    }
   ],
   "source": [
    "df = df.iloc[:7,1:11]\n",
    "df = df[['Korean Name', 'Date of Birth', 'Height', 'Weight']] \n",
    "df"
   ]
  },
  {
   "cell_type": "markdown",
   "id": "3bcaba30",
   "metadata": {},
   "source": [
    "### 3-10-1. 자료형 변환"
   ]
  },
  {
   "cell_type": "code",
   "execution_count": 4,
   "id": "57f57ed1",
   "metadata": {},
   "outputs": [
    {
     "name": "stdout",
     "output_type": "stream",
     "text": [
      "<class 'pandas.core.frame.DataFrame'>\n",
      "RangeIndex: 7 entries, 0 to 6\n",
      "Data columns (total 4 columns):\n",
      " #   Column         Non-Null Count  Dtype \n",
      "---  ------         --------------  ----- \n",
      " 0   Korean Name    7 non-null      object\n",
      " 1   Date of Birth  7 non-null      object\n",
      " 2   Height         7 non-null      int64 \n",
      " 3   Weight         7 non-null      int64 \n",
      "dtypes: int64(2), object(2)\n",
      "memory usage: 356.0+ bytes\n"
     ]
    }
   ],
   "source": [
    "df.info()"
   ]
  },
  {
   "cell_type": "markdown",
   "id": "3ca3cc2b",
   "metadata": {},
   "source": [
    "1. int -> str 변환 : astype('str')"
   ]
  },
  {
   "cell_type": "code",
   "execution_count": 5,
   "id": "8d6a8cba",
   "metadata": {},
   "outputs": [
    {
     "name": "stdout",
     "output_type": "stream",
     "text": [
      "<class 'pandas.core.frame.DataFrame'>\n",
      "RangeIndex: 7 entries, 0 to 6\n",
      "Data columns (total 4 columns):\n",
      " #   Column         Non-Null Count  Dtype \n",
      "---  ------         --------------  ----- \n",
      " 0   Korean Name    7 non-null      object\n",
      " 1   Date of Birth  7 non-null      object\n",
      " 2   Height         7 non-null      object\n",
      " 3   Weight         7 non-null      int64 \n",
      "dtypes: int64(1), object(3)\n",
      "memory usage: 356.0+ bytes\n"
     ]
    }
   ],
   "source": [
    "df['Height'] = df['Height'].astype('str')\n",
    "df.info()"
   ]
  },
  {
   "cell_type": "markdown",
   "id": "edbebf65",
   "metadata": {},
   "source": [
    "2. str -> int 타입 변환 (`astype('int')`)"
   ]
  },
  {
   "cell_type": "code",
   "execution_count": 6,
   "id": "c6fce7f1",
   "metadata": {},
   "outputs": [
    {
     "name": "stdout",
     "output_type": "stream",
     "text": [
      "<class 'pandas.core.frame.DataFrame'>\n",
      "RangeIndex: 7 entries, 0 to 6\n",
      "Data columns (total 4 columns):\n",
      " #   Column         Non-Null Count  Dtype \n",
      "---  ------         --------------  ----- \n",
      " 0   Korean Name    7 non-null      object\n",
      " 1   Date of Birth  7 non-null      object\n",
      " 2   Height         7 non-null      int64 \n",
      " 3   Weight         7 non-null      int64 \n",
      "dtypes: int64(2), object(2)\n",
      "memory usage: 356.0+ bytes\n"
     ]
    }
   ],
   "source": [
    "df['Height'] = df['Height'].astype('int')\n",
    "df.info()"
   ]
  },
  {
   "cell_type": "markdown",
   "id": "01ba6355",
   "metadata": {},
   "source": [
    "3. str -> datetime 타입으로 변환 : pd.to_datetime(df['컬럼명'])"
   ]
  },
  {
   "cell_type": "code",
   "execution_count": 7,
   "id": "b14f9d4d",
   "metadata": {},
   "outputs": [
    {
     "data": {
      "text/plain": [
       "'1989-03-09'"
      ]
     },
     "execution_count": 7,
     "metadata": {},
     "output_type": "execute_result"
    }
   ],
   "source": [
    "df['Date of Birth'][0]"
   ]
  },
  {
   "cell_type": "code",
   "execution_count": 27,
   "id": "57621984",
   "metadata": {},
   "outputs": [
    {
     "name": "stdout",
     "output_type": "stream",
     "text": [
      "<class 'pandas.core.frame.DataFrame'>\n",
      "RangeIndex: 7 entries, 0 to 6\n",
      "Data columns (total 4 columns):\n",
      " #   Column         Non-Null Count  Dtype         \n",
      "---  ------         --------------  -----         \n",
      " 0   Korean Name    7 non-null      object        \n",
      " 1   Date of Birth  7 non-null      datetime64[ns]\n",
      " 2   Height         7 non-null      int64         \n",
      " 3   Weight         7 non-null      int64         \n",
      "dtypes: datetime64[ns](1), int64(2), object(1)\n",
      "memory usage: 356.0+ bytes\n"
     ]
    }
   ],
   "source": [
    "df['Date of Birth'] = pd.to_datetime(df['Date of Birth'])\n",
    "df.info()"
   ]
  },
  {
   "cell_type": "code",
   "execution_count": 9,
   "id": "07446382",
   "metadata": {},
   "outputs": [
    {
     "data": {
      "text/plain": [
       "Timestamp('1989-03-09 00:00:00')"
      ]
     },
     "execution_count": 9,
     "metadata": {},
     "output_type": "execute_result"
    }
   ],
   "source": [
    "df['Date of Birth'][0]"
   ]
  },
  {
   "cell_type": "markdown",
   "id": "c85d5ea7",
   "metadata": {},
   "source": [
    "### 3-2. datetime 타입으로 날짜 슬라이싱 : dt 속성 사용"
   ]
  },
  {
   "cell_type": "code",
   "execution_count": 10,
   "id": "d4ea0aac",
   "metadata": {},
   "outputs": [
    {
     "data": {
      "text/plain": [
       "0   1989-03-09\n",
       "1   1989-05-15\n",
       "2   1989-08-01\n",
       "3   1989-09-22\n",
       "4   1989-12-05\n",
       "5   1990-02-10\n",
       "6   1990-05-30\n",
       "Name: Date of Birth, dtype: datetime64[ns]"
      ]
     },
     "execution_count": 10,
     "metadata": {},
     "output_type": "execute_result"
    }
   ],
   "source": [
    "df['Date of Birth']"
   ]
  },
  {
   "cell_type": "code",
   "execution_count": null,
   "id": "11bd86f9",
   "metadata": {},
   "outputs": [
    {
     "data": {
      "text/plain": [
       "0    1989\n",
       "1    1989\n",
       "2    1989\n",
       "3    1989\n",
       "4    1989\n",
       "5    1990\n",
       "6    1990\n",
       "Name: Date of Birth, dtype: int32"
      ]
     },
     "execution_count": 11,
     "metadata": {},
     "output_type": "execute_result"
    }
   ],
   "source": [
    "# 연도 추출\n",
    "\n",
    "df['Date of Birth'].dt.year"
   ]
  },
  {
   "cell_type": "code",
   "execution_count": 12,
   "id": "b0c49b2d",
   "metadata": {},
   "outputs": [
    {
     "data": {
      "text/plain": [
       "0     3\n",
       "1     5\n",
       "2     8\n",
       "3     9\n",
       "4    12\n",
       "5     2\n",
       "6     5\n",
       "Name: Date of Birth, dtype: int32"
      ]
     },
     "execution_count": 12,
     "metadata": {},
     "output_type": "execute_result"
    }
   ],
   "source": [
    "# 월 추출\n",
    "\n",
    "df['Date of Birth'].dt.month"
   ]
  },
  {
   "cell_type": "code",
   "execution_count": 13,
   "id": "06f498b7",
   "metadata": {},
   "outputs": [
    {
     "data": {
      "text/plain": [
       "0     9\n",
       "1    15\n",
       "2     1\n",
       "3    22\n",
       "4     5\n",
       "5    10\n",
       "6    30\n",
       "Name: Date of Birth, dtype: int32"
      ]
     },
     "execution_count": 13,
     "metadata": {},
     "output_type": "execute_result"
    }
   ],
   "source": [
    "# 일 추출\n",
    "\n",
    "df['Date of Birth'].dt.day"
   ]
  },
  {
   "cell_type": "code",
   "execution_count": 28,
   "id": "95ea69f0",
   "metadata": {},
   "outputs": [
    {
     "data": {
      "text/html": [
       "<div>\n",
       "<style scoped>\n",
       "    .dataframe tbody tr th:only-of-type {\n",
       "        vertical-align: middle;\n",
       "    }\n",
       "\n",
       "    .dataframe tbody tr th {\n",
       "        vertical-align: top;\n",
       "    }\n",
       "\n",
       "    .dataframe thead th {\n",
       "        text-align: right;\n",
       "    }\n",
       "</style>\n",
       "<table border=\"1\" class=\"dataframe\">\n",
       "  <thead>\n",
       "    <tr style=\"text-align: right;\">\n",
       "      <th></th>\n",
       "      <th>Korean Name</th>\n",
       "      <th>Date of Birth</th>\n",
       "      <th>Height</th>\n",
       "      <th>Weight</th>\n",
       "      <th>Year of Birth</th>\n",
       "      <th>Month of Birth</th>\n",
       "      <th>Day of Birth</th>\n",
       "    </tr>\n",
       "  </thead>\n",
       "  <tbody>\n",
       "    <tr>\n",
       "      <th>0</th>\n",
       "      <td>김태연</td>\n",
       "      <td>1989-03-09</td>\n",
       "      <td>160</td>\n",
       "      <td>44</td>\n",
       "      <td>1989</td>\n",
       "      <td>3</td>\n",
       "      <td>9</td>\n",
       "    </tr>\n",
       "    <tr>\n",
       "      <th>1</th>\n",
       "      <td>이순규</td>\n",
       "      <td>1989-05-15</td>\n",
       "      <td>158</td>\n",
       "      <td>43</td>\n",
       "      <td>1989</td>\n",
       "      <td>5</td>\n",
       "      <td>15</td>\n",
       "    </tr>\n",
       "    <tr>\n",
       "      <th>2</th>\n",
       "      <td>황미영</td>\n",
       "      <td>1989-08-01</td>\n",
       "      <td>163</td>\n",
       "      <td>50</td>\n",
       "      <td>1989</td>\n",
       "      <td>8</td>\n",
       "      <td>1</td>\n",
       "    </tr>\n",
       "    <tr>\n",
       "      <th>3</th>\n",
       "      <td>김효연</td>\n",
       "      <td>1989-09-22</td>\n",
       "      <td>158</td>\n",
       "      <td>48</td>\n",
       "      <td>1989</td>\n",
       "      <td>9</td>\n",
       "      <td>22</td>\n",
       "    </tr>\n",
       "    <tr>\n",
       "      <th>4</th>\n",
       "      <td>권유리</td>\n",
       "      <td>1989-12-05</td>\n",
       "      <td>167</td>\n",
       "      <td>45</td>\n",
       "      <td>1989</td>\n",
       "      <td>12</td>\n",
       "      <td>5</td>\n",
       "    </tr>\n",
       "    <tr>\n",
       "      <th>5</th>\n",
       "      <td>최수영</td>\n",
       "      <td>1990-02-10</td>\n",
       "      <td>170</td>\n",
       "      <td>48</td>\n",
       "      <td>1990</td>\n",
       "      <td>2</td>\n",
       "      <td>10</td>\n",
       "    </tr>\n",
       "    <tr>\n",
       "      <th>6</th>\n",
       "      <td>임윤아</td>\n",
       "      <td>1990-05-30</td>\n",
       "      <td>166</td>\n",
       "      <td>47</td>\n",
       "      <td>1990</td>\n",
       "      <td>5</td>\n",
       "      <td>30</td>\n",
       "    </tr>\n",
       "  </tbody>\n",
       "</table>\n",
       "</div>"
      ],
      "text/plain": [
       "  Korean Name Date of Birth  Height  Weight  Year of Birth  Month of Birth  \\\n",
       "0         김태연    1989-03-09     160      44           1989               3   \n",
       "1         이순규    1989-05-15     158      43           1989               5   \n",
       "2         황미영    1989-08-01     163      50           1989               8   \n",
       "3         김효연    1989-09-22     158      48           1989               9   \n",
       "4         권유리    1989-12-05     167      45           1989              12   \n",
       "5         최수영    1990-02-10     170      48           1990               2   \n",
       "6         임윤아    1990-05-30     166      47           1990               5   \n",
       "\n",
       "   Day of Birth  \n",
       "0             9  \n",
       "1            15  \n",
       "2             1  \n",
       "3            22  \n",
       "4             5  \n",
       "5            10  \n",
       "6            30  "
      ]
     },
     "execution_count": 28,
     "metadata": {},
     "output_type": "execute_result"
    }
   ],
   "source": [
    "# 데이터 프레임에 날짜 슬라이싱한 열 추가\n",
    "df['Year of Birth'] = df['Date of Birth'].dt.year\n",
    "df['Month of Birth'] = df['Date of Birth'].dt.month\n",
    "df['Day of Birth'] = df['Date of Birth'].dt.day\n",
    "\n",
    "df"
   ]
  },
  {
   "cell_type": "markdown",
   "id": "5db79635",
   "metadata": {},
   "source": [
    "### 3-10-2. 산술 연산 : 데이터 타입이 같은 경우만 연산 가능"
   ]
  },
  {
   "cell_type": "code",
   "execution_count": 16,
   "id": "13af565d",
   "metadata": {},
   "outputs": [
    {
     "data": {
      "text/plain": [
       "0    204\n",
       "1    201\n",
       "2    213\n",
       "3    206\n",
       "4    212\n",
       "5    218\n",
       "6    213\n",
       "dtype: int64"
      ]
     },
     "execution_count": 16,
     "metadata": {},
     "output_type": "execute_result"
    }
   ],
   "source": [
    "# 사칙 연산\n",
    "\n",
    "df['Height'] + df['Weight']"
   ]
  },
  {
   "cell_type": "code",
   "execution_count": 17,
   "id": "6f58fb0f",
   "metadata": {},
   "outputs": [
    {
     "data": {
      "text/plain": [
       "0    116\n",
       "1    115\n",
       "2    113\n",
       "3    110\n",
       "4    122\n",
       "5    122\n",
       "6    119\n",
       "dtype: int64"
      ]
     },
     "execution_count": 17,
     "metadata": {},
     "output_type": "execute_result"
    }
   ],
   "source": [
    "df['Height'] - df['Weight']"
   ]
  },
  {
   "cell_type": "code",
   "execution_count": 18,
   "id": "371a3228",
   "metadata": {},
   "outputs": [
    {
     "data": {
      "text/plain": [
       "0    7040\n",
       "1    6794\n",
       "2    8150\n",
       "3    7584\n",
       "4    7515\n",
       "5    8160\n",
       "6    7802\n",
       "dtype: int64"
      ]
     },
     "execution_count": 18,
     "metadata": {},
     "output_type": "execute_result"
    }
   ],
   "source": [
    "df['Height'] * df['Weight']"
   ]
  },
  {
   "cell_type": "code",
   "execution_count": 19,
   "id": "857284ff",
   "metadata": {},
   "outputs": [
    {
     "data": {
      "text/plain": [
       "0    3.636364\n",
       "1    3.674419\n",
       "2    3.260000\n",
       "3    3.291667\n",
       "4    3.711111\n",
       "5    3.541667\n",
       "6    3.531915\n",
       "dtype: float64"
      ]
     },
     "execution_count": 19,
     "metadata": {},
     "output_type": "execute_result"
    }
   ],
   "source": [
    "df['Height'] / df['Weight']"
   ]
  },
  {
   "cell_type": "markdown",
   "id": "6993e46c",
   "metadata": {},
   "source": [
    "데이트타임 연산"
   ]
  },
  {
   "cell_type": "code",
   "execution_count": 30,
   "id": "de840875",
   "metadata": {},
   "outputs": [
    {
     "data": {
      "text/html": [
       "<div>\n",
       "<style scoped>\n",
       "    .dataframe tbody tr th:only-of-type {\n",
       "        vertical-align: middle;\n",
       "    }\n",
       "\n",
       "    .dataframe tbody tr th {\n",
       "        vertical-align: top;\n",
       "    }\n",
       "\n",
       "    .dataframe thead th {\n",
       "        text-align: right;\n",
       "    }\n",
       "</style>\n",
       "<table border=\"1\" class=\"dataframe\">\n",
       "  <thead>\n",
       "    <tr style=\"text-align: right;\">\n",
       "      <th></th>\n",
       "      <th>Korean Name</th>\n",
       "      <th>Date of Birth</th>\n",
       "      <th>Height</th>\n",
       "      <th>Weight</th>\n",
       "      <th>Year of Birth</th>\n",
       "      <th>Month of Birth</th>\n",
       "      <th>Day of Birth</th>\n",
       "    </tr>\n",
       "  </thead>\n",
       "  <tbody>\n",
       "    <tr>\n",
       "      <th>0</th>\n",
       "      <td>김태연</td>\n",
       "      <td>1989-03-09</td>\n",
       "      <td>160</td>\n",
       "      <td>44</td>\n",
       "      <td>1989</td>\n",
       "      <td>3</td>\n",
       "      <td>9</td>\n",
       "    </tr>\n",
       "    <tr>\n",
       "      <th>1</th>\n",
       "      <td>이순규</td>\n",
       "      <td>1989-05-15</td>\n",
       "      <td>158</td>\n",
       "      <td>43</td>\n",
       "      <td>1989</td>\n",
       "      <td>5</td>\n",
       "      <td>15</td>\n",
       "    </tr>\n",
       "    <tr>\n",
       "      <th>2</th>\n",
       "      <td>황미영</td>\n",
       "      <td>1989-08-01</td>\n",
       "      <td>163</td>\n",
       "      <td>50</td>\n",
       "      <td>1989</td>\n",
       "      <td>8</td>\n",
       "      <td>1</td>\n",
       "    </tr>\n",
       "    <tr>\n",
       "      <th>3</th>\n",
       "      <td>김효연</td>\n",
       "      <td>1989-09-22</td>\n",
       "      <td>158</td>\n",
       "      <td>48</td>\n",
       "      <td>1989</td>\n",
       "      <td>9</td>\n",
       "      <td>22</td>\n",
       "    </tr>\n",
       "    <tr>\n",
       "      <th>4</th>\n",
       "      <td>권유리</td>\n",
       "      <td>1989-12-05</td>\n",
       "      <td>167</td>\n",
       "      <td>45</td>\n",
       "      <td>1989</td>\n",
       "      <td>12</td>\n",
       "      <td>5</td>\n",
       "    </tr>\n",
       "    <tr>\n",
       "      <th>5</th>\n",
       "      <td>최수영</td>\n",
       "      <td>1990-02-10</td>\n",
       "      <td>170</td>\n",
       "      <td>48</td>\n",
       "      <td>1990</td>\n",
       "      <td>2</td>\n",
       "      <td>10</td>\n",
       "    </tr>\n",
       "    <tr>\n",
       "      <th>6</th>\n",
       "      <td>임윤아</td>\n",
       "      <td>1990-05-30</td>\n",
       "      <td>166</td>\n",
       "      <td>47</td>\n",
       "      <td>1990</td>\n",
       "      <td>5</td>\n",
       "      <td>30</td>\n",
       "    </tr>\n",
       "  </tbody>\n",
       "</table>\n",
       "</div>"
      ],
      "text/plain": [
       "  Korean Name Date of Birth  Height  Weight  Year of Birth  Month of Birth  \\\n",
       "0         김태연    1989-03-09     160      44           1989               3   \n",
       "1         이순규    1989-05-15     158      43           1989               5   \n",
       "2         황미영    1989-08-01     163      50           1989               8   \n",
       "3         김효연    1989-09-22     158      48           1989               9   \n",
       "4         권유리    1989-12-05     167      45           1989              12   \n",
       "5         최수영    1990-02-10     170      48           1990               2   \n",
       "6         임윤아    1990-05-30     166      47           1990               5   \n",
       "\n",
       "   Day of Birth  \n",
       "0             9  \n",
       "1            15  \n",
       "2             1  \n",
       "3            22  \n",
       "4             5  \n",
       "5            10  \n",
       "6            30  "
      ]
     },
     "execution_count": 30,
     "metadata": {},
     "output_type": "execute_result"
    }
   ],
   "source": [
    "df"
   ]
  },
  {
   "cell_type": "code",
   "execution_count": 31,
   "id": "dce5b7da",
   "metadata": {},
   "outputs": [
    {
     "ename": "TypeError",
     "evalue": "Addition/subtraction of integers and integer-arrays with DatetimeArray is no longer supported.  Instead of adding/subtracting `n`, use `n * obj.freq`",
     "output_type": "error",
     "traceback": [
      "\u001b[31m---------------------------------------------------------------------------\u001b[39m",
      "\u001b[31mTypeError\u001b[39m                                 Traceback (most recent call last)",
      "\u001b[36mCell\u001b[39m\u001b[36m \u001b[39m\u001b[32mIn[31]\u001b[39m\u001b[32m, line 1\u001b[39m\n\u001b[32m----> \u001b[39m\u001b[32m1\u001b[39m \u001b[43mdf\u001b[49m\u001b[43m[\u001b[49m\u001b[33;43m'\u001b[39;49m\u001b[33;43mDate of Birth\u001b[39;49m\u001b[33;43m'\u001b[39;49m\u001b[43m]\u001b[49m\u001b[43m \u001b[49m\u001b[43m+\u001b[49m\u001b[43m \u001b[49m\u001b[43mdf\u001b[49m\u001b[43m[\u001b[49m\u001b[33;43m'\u001b[39;49m\u001b[33;43mDay of Birth\u001b[39;49m\u001b[33;43m'\u001b[39;49m\u001b[43m]\u001b[49m\n",
      "\u001b[36mFile \u001b[39m\u001b[32mc:\\LSS\\실습\\dataAnalysis\\.venv\\Lib\\site-packages\\pandas\\core\\ops\\common.py:76\u001b[39m, in \u001b[36m_unpack_zerodim_and_defer.<locals>.new_method\u001b[39m\u001b[34m(self, other)\u001b[39m\n\u001b[32m     72\u001b[39m             \u001b[38;5;28;01mreturn\u001b[39;00m \u001b[38;5;28mNotImplemented\u001b[39m\n\u001b[32m     74\u001b[39m other = item_from_zerodim(other)\n\u001b[32m---> \u001b[39m\u001b[32m76\u001b[39m \u001b[38;5;28;01mreturn\u001b[39;00m \u001b[43mmethod\u001b[49m\u001b[43m(\u001b[49m\u001b[38;5;28;43mself\u001b[39;49m\u001b[43m,\u001b[49m\u001b[43m \u001b[49m\u001b[43mother\u001b[49m\u001b[43m)\u001b[49m\n",
      "\u001b[36mFile \u001b[39m\u001b[32mc:\\LSS\\실습\\dataAnalysis\\.venv\\Lib\\site-packages\\pandas\\core\\arraylike.py:186\u001b[39m, in \u001b[36mOpsMixin.__add__\u001b[39m\u001b[34m(self, other)\u001b[39m\n\u001b[32m     98\u001b[39m \u001b[38;5;129m@unpack_zerodim_and_defer\u001b[39m(\u001b[33m\"\u001b[39m\u001b[33m__add__\u001b[39m\u001b[33m\"\u001b[39m)\n\u001b[32m     99\u001b[39m \u001b[38;5;28;01mdef\u001b[39;00m\u001b[38;5;250m \u001b[39m\u001b[34m__add__\u001b[39m(\u001b[38;5;28mself\u001b[39m, other):\n\u001b[32m    100\u001b[39m \u001b[38;5;250m    \u001b[39m\u001b[33;03m\"\"\"\u001b[39;00m\n\u001b[32m    101\u001b[39m \u001b[33;03m    Get Addition of DataFrame and other, column-wise.\u001b[39;00m\n\u001b[32m    102\u001b[39m \n\u001b[32m   (...)\u001b[39m\u001b[32m    184\u001b[39m \u001b[33;03m    moose     3.0     NaN\u001b[39;00m\n\u001b[32m    185\u001b[39m \u001b[33;03m    \"\"\"\u001b[39;00m\n\u001b[32m--> \u001b[39m\u001b[32m186\u001b[39m     \u001b[38;5;28;01mreturn\u001b[39;00m \u001b[38;5;28;43mself\u001b[39;49m\u001b[43m.\u001b[49m\u001b[43m_arith_method\u001b[49m\u001b[43m(\u001b[49m\u001b[43mother\u001b[49m\u001b[43m,\u001b[49m\u001b[43m \u001b[49m\u001b[43moperator\u001b[49m\u001b[43m.\u001b[49m\u001b[43madd\u001b[49m\u001b[43m)\u001b[49m\n",
      "\u001b[36mFile \u001b[39m\u001b[32mc:\\LSS\\실습\\dataAnalysis\\.venv\\Lib\\site-packages\\pandas\\core\\series.py:6146\u001b[39m, in \u001b[36mSeries._arith_method\u001b[39m\u001b[34m(self, other, op)\u001b[39m\n\u001b[32m   6144\u001b[39m \u001b[38;5;28;01mdef\u001b[39;00m\u001b[38;5;250m \u001b[39m\u001b[34m_arith_method\u001b[39m(\u001b[38;5;28mself\u001b[39m, other, op):\n\u001b[32m   6145\u001b[39m     \u001b[38;5;28mself\u001b[39m, other = \u001b[38;5;28mself\u001b[39m._align_for_op(other)\n\u001b[32m-> \u001b[39m\u001b[32m6146\u001b[39m     \u001b[38;5;28;01mreturn\u001b[39;00m \u001b[43mbase\u001b[49m\u001b[43m.\u001b[49m\u001b[43mIndexOpsMixin\u001b[49m\u001b[43m.\u001b[49m\u001b[43m_arith_method\u001b[49m\u001b[43m(\u001b[49m\u001b[38;5;28;43mself\u001b[39;49m\u001b[43m,\u001b[49m\u001b[43m \u001b[49m\u001b[43mother\u001b[49m\u001b[43m,\u001b[49m\u001b[43m \u001b[49m\u001b[43mop\u001b[49m\u001b[43m)\u001b[49m\n",
      "\u001b[36mFile \u001b[39m\u001b[32mc:\\LSS\\실습\\dataAnalysis\\.venv\\Lib\\site-packages\\pandas\\core\\base.py:1391\u001b[39m, in \u001b[36mIndexOpsMixin._arith_method\u001b[39m\u001b[34m(self, other, op)\u001b[39m\n\u001b[32m   1388\u001b[39m     rvalues = np.arange(rvalues.start, rvalues.stop, rvalues.step)\n\u001b[32m   1390\u001b[39m \u001b[38;5;28;01mwith\u001b[39;00m np.errstate(\u001b[38;5;28mall\u001b[39m=\u001b[33m\"\u001b[39m\u001b[33mignore\u001b[39m\u001b[33m\"\u001b[39m):\n\u001b[32m-> \u001b[39m\u001b[32m1391\u001b[39m     result = \u001b[43mops\u001b[49m\u001b[43m.\u001b[49m\u001b[43marithmetic_op\u001b[49m\u001b[43m(\u001b[49m\u001b[43mlvalues\u001b[49m\u001b[43m,\u001b[49m\u001b[43m \u001b[49m\u001b[43mrvalues\u001b[49m\u001b[43m,\u001b[49m\u001b[43m \u001b[49m\u001b[43mop\u001b[49m\u001b[43m)\u001b[49m\n\u001b[32m   1393\u001b[39m \u001b[38;5;28;01mreturn\u001b[39;00m \u001b[38;5;28mself\u001b[39m._construct_result(result, name=res_name)\n",
      "\u001b[36mFile \u001b[39m\u001b[32mc:\\LSS\\실습\\dataAnalysis\\.venv\\Lib\\site-packages\\pandas\\core\\ops\\array_ops.py:273\u001b[39m, in \u001b[36marithmetic_op\u001b[39m\u001b[34m(left, right, op)\u001b[39m\n\u001b[32m    260\u001b[39m \u001b[38;5;66;03m# NB: We assume that extract_array and ensure_wrapped_if_datetimelike\u001b[39;00m\n\u001b[32m    261\u001b[39m \u001b[38;5;66;03m#  have already been called on `left` and `right`,\u001b[39;00m\n\u001b[32m    262\u001b[39m \u001b[38;5;66;03m#  and `maybe_prepare_scalar_for_op` has already been called on `right`\u001b[39;00m\n\u001b[32m    263\u001b[39m \u001b[38;5;66;03m# We need to special-case datetime64/timedelta64 dtypes (e.g. because numpy\u001b[39;00m\n\u001b[32m    264\u001b[39m \u001b[38;5;66;03m# casts integer dtypes to timedelta64 when operating with timedelta64 - GH#22390)\u001b[39;00m\n\u001b[32m    266\u001b[39m \u001b[38;5;28;01mif\u001b[39;00m (\n\u001b[32m    267\u001b[39m     should_extension_dispatch(left, right)\n\u001b[32m    268\u001b[39m     \u001b[38;5;129;01mor\u001b[39;00m \u001b[38;5;28misinstance\u001b[39m(right, (Timedelta, BaseOffset, Timestamp))\n\u001b[32m   (...)\u001b[39m\u001b[32m    271\u001b[39m     \u001b[38;5;66;03m# Timedelta/Timestamp and other custom scalars are included in the check\u001b[39;00m\n\u001b[32m    272\u001b[39m     \u001b[38;5;66;03m# because numexpr will fail on it, see GH#31457\u001b[39;00m\n\u001b[32m--> \u001b[39m\u001b[32m273\u001b[39m     res_values = \u001b[43mop\u001b[49m\u001b[43m(\u001b[49m\u001b[43mleft\u001b[49m\u001b[43m,\u001b[49m\u001b[43m \u001b[49m\u001b[43mright\u001b[49m\u001b[43m)\u001b[49m\n\u001b[32m    274\u001b[39m \u001b[38;5;28;01melse\u001b[39;00m:\n\u001b[32m    275\u001b[39m     \u001b[38;5;66;03m# TODO we should handle EAs consistently and move this check before the if/else\u001b[39;00m\n\u001b[32m    276\u001b[39m     \u001b[38;5;66;03m# (https://github.com/pandas-dev/pandas/issues/41165)\u001b[39;00m\n\u001b[32m    277\u001b[39m     \u001b[38;5;66;03m# error: Argument 2 to \"_bool_arith_check\" has incompatible type\u001b[39;00m\n\u001b[32m    278\u001b[39m     \u001b[38;5;66;03m# \"Union[ExtensionArray, ndarray[Any, Any]]\"; expected \"ndarray[Any, Any]\"\u001b[39;00m\n\u001b[32m    279\u001b[39m     _bool_arith_check(op, left, right)  \u001b[38;5;66;03m# type: ignore[arg-type]\u001b[39;00m\n",
      "\u001b[36mFile \u001b[39m\u001b[32mc:\\LSS\\실습\\dataAnalysis\\.venv\\Lib\\site-packages\\pandas\\core\\ops\\common.py:76\u001b[39m, in \u001b[36m_unpack_zerodim_and_defer.<locals>.new_method\u001b[39m\u001b[34m(self, other)\u001b[39m\n\u001b[32m     72\u001b[39m             \u001b[38;5;28;01mreturn\u001b[39;00m \u001b[38;5;28mNotImplemented\u001b[39m\n\u001b[32m     74\u001b[39m other = item_from_zerodim(other)\n\u001b[32m---> \u001b[39m\u001b[32m76\u001b[39m \u001b[38;5;28;01mreturn\u001b[39;00m \u001b[43mmethod\u001b[49m\u001b[43m(\u001b[49m\u001b[38;5;28;43mself\u001b[39;49m\u001b[43m,\u001b[49m\u001b[43m \u001b[49m\u001b[43mother\u001b[49m\u001b[43m)\u001b[49m\n",
      "\u001b[36mFile \u001b[39m\u001b[32mc:\\LSS\\실습\\dataAnalysis\\.venv\\Lib\\site-packages\\pandas\\core\\arrays\\datetimelike.py:1424\u001b[39m, in \u001b[36mDatetimeLikeArrayMixin.__add__\u001b[39m\u001b[34m(self, other)\u001b[39m\n\u001b[32m   1422\u001b[39m \u001b[38;5;28;01melif\u001b[39;00m is_integer_dtype(other_dtype):\n\u001b[32m   1423\u001b[39m     \u001b[38;5;28;01mif\u001b[39;00m \u001b[38;5;129;01mnot\u001b[39;00m \u001b[38;5;28misinstance\u001b[39m(\u001b[38;5;28mself\u001b[39m.dtype, PeriodDtype):\n\u001b[32m-> \u001b[39m\u001b[32m1424\u001b[39m         \u001b[38;5;28;01mraise\u001b[39;00m integer_op_not_supported(\u001b[38;5;28mself\u001b[39m)\n\u001b[32m   1425\u001b[39m     obj = cast(\u001b[33m\"\u001b[39m\u001b[33mPeriodArray\u001b[39m\u001b[33m\"\u001b[39m, \u001b[38;5;28mself\u001b[39m)\n\u001b[32m   1426\u001b[39m     result = obj._addsub_int_array_or_scalar(other * obj.dtype._n, operator.add)\n",
      "\u001b[31mTypeError\u001b[39m: Addition/subtraction of integers and integer-arrays with DatetimeArray is no longer supported.  Instead of adding/subtracting `n`, use `n * obj.freq`"
     ]
    }
   ],
   "source": [
    "df['Date of Birth'] + df['Day of Birth']"
   ]
  },
  {
   "cell_type": "code",
   "execution_count": 33,
   "id": "b5d161be",
   "metadata": {},
   "outputs": [],
   "source": [
    "# pd.Timedelta 자료형으로 변환 : to_timedelta\n",
    "\n",
    "df['Day of Birth'] = pd.to_timedelta(df['Day of Birth'], unit ='day')"
   ]
  },
  {
   "cell_type": "code",
   "execution_count": 34,
   "id": "e1bff4f4",
   "metadata": {},
   "outputs": [
    {
     "name": "stdout",
     "output_type": "stream",
     "text": [
      "<class 'pandas.core.frame.DataFrame'>\n",
      "RangeIndex: 7 entries, 0 to 6\n",
      "Data columns (total 7 columns):\n",
      " #   Column          Non-Null Count  Dtype          \n",
      "---  ------          --------------  -----          \n",
      " 0   Korean Name     7 non-null      object         \n",
      " 1   Date of Birth   7 non-null      datetime64[ns] \n",
      " 2   Height          7 non-null      int64          \n",
      " 3   Weight          7 non-null      int64          \n",
      " 4   Year of Birth   7 non-null      int32          \n",
      " 5   Month of Birth  7 non-null      int32          \n",
      " 6   Day of Birth    7 non-null      timedelta64[ns]\n",
      "dtypes: datetime64[ns](1), int32(2), int64(2), object(1), timedelta64[ns](1)\n",
      "memory usage: 468.0+ bytes\n"
     ]
    }
   ],
   "source": [
    "df.info()"
   ]
  },
  {
   "cell_type": "code",
   "execution_count": 35,
   "id": "7f92477c",
   "metadata": {},
   "outputs": [
    {
     "data": {
      "text/plain": [
       "0   1989-03-18\n",
       "1   1989-05-30\n",
       "2   1989-08-02\n",
       "3   1989-10-14\n",
       "4   1989-12-10\n",
       "5   1990-02-20\n",
       "6   1990-06-29\n",
       "dtype: datetime64[ns]"
      ]
     },
     "execution_count": 35,
     "metadata": {},
     "output_type": "execute_result"
    }
   ],
   "source": [
    "df['Date of Birth'] +  df['Day of Birth']"
   ]
  },
  {
   "cell_type": "markdown",
   "id": "721a63d8",
   "metadata": {},
   "source": [
    "### 통계 연산"
   ]
  },
  {
   "cell_type": "code",
   "execution_count": 36,
   "id": "ebaa3b25",
   "metadata": {},
   "outputs": [
    {
     "data": {
      "text/html": [
       "<div>\n",
       "<style scoped>\n",
       "    .dataframe tbody tr th:only-of-type {\n",
       "        vertical-align: middle;\n",
       "    }\n",
       "\n",
       "    .dataframe tbody tr th {\n",
       "        vertical-align: top;\n",
       "    }\n",
       "\n",
       "    .dataframe thead th {\n",
       "        text-align: right;\n",
       "    }\n",
       "</style>\n",
       "<table border=\"1\" class=\"dataframe\">\n",
       "  <thead>\n",
       "    <tr style=\"text-align: right;\">\n",
       "      <th></th>\n",
       "      <th>국어</th>\n",
       "      <th>수학</th>\n",
       "      <th>영어</th>\n",
       "    </tr>\n",
       "  </thead>\n",
       "  <tbody>\n",
       "    <tr>\n",
       "      <th>0</th>\n",
       "      <td>100</td>\n",
       "      <td>80</td>\n",
       "      <td>90</td>\n",
       "    </tr>\n",
       "    <tr>\n",
       "      <th>1</th>\n",
       "      <td>60</td>\n",
       "      <td>70</td>\n",
       "      <td>55</td>\n",
       "    </tr>\n",
       "    <tr>\n",
       "      <th>2</th>\n",
       "      <td>50</td>\n",
       "      <td>65</td>\n",
       "      <td>85</td>\n",
       "    </tr>\n",
       "    <tr>\n",
       "      <th>3</th>\n",
       "      <td>75</td>\n",
       "      <td>90</td>\n",
       "      <td>70</td>\n",
       "    </tr>\n",
       "  </tbody>\n",
       "</table>\n",
       "</div>"
      ],
      "text/plain": [
       "    국어  수학  영어\n",
       "0  100  80  90\n",
       "1   60  70  55\n",
       "2   50  65  85\n",
       "3   75  90  70"
      ]
     },
     "execution_count": 36,
     "metadata": {},
     "output_type": "execute_result"
    }
   ],
   "source": [
    "df = pd.DataFrame({'국어': [100, 60, 50, 75], '수학': [80, 70, 65, 90], '영어': [90, 55, 85, 70]})\n",
    "df"
   ]
  },
  {
   "cell_type": "code",
   "execution_count": 37,
   "id": "2e1e5299",
   "metadata": {},
   "outputs": [
    {
     "data": {
      "text/plain": [
       "국어    285\n",
       "수학    305\n",
       "영어    300\n",
       "dtype: int64"
      ]
     },
     "execution_count": 37,
     "metadata": {},
     "output_type": "execute_result"
    }
   ],
   "source": [
    "# 행 합계\n",
    "df.sum(axis=0)"
   ]
  },
  {
   "cell_type": "code",
   "execution_count": 38,
   "id": "fef27e68",
   "metadata": {},
   "outputs": [
    {
     "data": {
      "text/plain": [
       "국어    71.25\n",
       "수학    76.25\n",
       "영어    75.00\n",
       "dtype: float64"
      ]
     },
     "execution_count": 38,
     "metadata": {},
     "output_type": "execute_result"
    }
   ],
   "source": [
    "# 행 평균\n",
    "df.mean(axis=0)"
   ]
  },
  {
   "cell_type": "code",
   "execution_count": 39,
   "id": "ac593ac3",
   "metadata": {},
   "outputs": [
    {
     "data": {
      "text/plain": [
       "0    270\n",
       "1    185\n",
       "2    200\n",
       "3    235\n",
       "dtype: int64"
      ]
     },
     "execution_count": 39,
     "metadata": {},
     "output_type": "execute_result"
    }
   ],
   "source": [
    "# 열 합계\n",
    "df.sum(axis=1)"
   ]
  },
  {
   "cell_type": "code",
   "execution_count": 40,
   "id": "321ebdfd",
   "metadata": {},
   "outputs": [
    {
     "data": {
      "text/plain": [
       "0    90.000000\n",
       "1    61.666667\n",
       "2    66.666667\n",
       "3    78.333333\n",
       "dtype: float64"
      ]
     },
     "execution_count": 40,
     "metadata": {},
     "output_type": "execute_result"
    }
   ],
   "source": [
    "# 열 평균\n",
    "df.mean(axis=1)"
   ]
  },
  {
   "cell_type": "code",
   "execution_count": null,
   "id": "63df9ac0",
   "metadata": {},
   "outputs": [],
   "source": []
  }
 ],
 "metadata": {
  "kernelspec": {
   "display_name": ".venv",
   "language": "python",
   "name": "python3"
  },
  "language_info": {
   "codemirror_mode": {
    "name": "ipython",
    "version": 3
   },
   "file_extension": ".py",
   "mimetype": "text/x-python",
   "name": "python",
   "nbconvert_exporter": "python",
   "pygments_lexer": "ipython3",
   "version": "3.13.5"
  }
 },
 "nbformat": 4,
 "nbformat_minor": 5
}
