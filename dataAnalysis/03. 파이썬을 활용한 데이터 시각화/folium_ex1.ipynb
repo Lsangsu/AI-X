{
 "cells": [
  {
   "cell_type": "code",
   "execution_count": 1,
   "id": "aee83444",
   "metadata": {},
   "outputs": [],
   "source": [
    "!pip install -q folium"
   ]
  },
  {
   "cell_type": "code",
   "execution_count": 7,
   "id": "bce8f4b8",
   "metadata": {},
   "outputs": [
    {
     "ename": "ValueError",
     "evalue": "Marker location must be assigned when added directly to map.",
     "output_type": "error",
     "traceback": [
      "\u001b[31m---------------------------------------------------------------------------\u001b[39m",
      "\u001b[31mValueError\u001b[39m                                Traceback (most recent call last)",
      "\u001b[36mFile \u001b[39m\u001b[32mc:\\LSS\\실습\\dataAnalysis\\.venv\\Lib\\site-packages\\IPython\\core\\formatters.py:406\u001b[39m, in \u001b[36mBaseFormatter.__call__\u001b[39m\u001b[34m(self, obj)\u001b[39m\n\u001b[32m    404\u001b[39m     method = get_real_method(obj, \u001b[38;5;28mself\u001b[39m.print_method)\n\u001b[32m    405\u001b[39m     \u001b[38;5;28;01mif\u001b[39;00m method \u001b[38;5;129;01mis\u001b[39;00m \u001b[38;5;129;01mnot\u001b[39;00m \u001b[38;5;28;01mNone\u001b[39;00m:\n\u001b[32m--> \u001b[39m\u001b[32m406\u001b[39m         \u001b[38;5;28;01mreturn\u001b[39;00m \u001b[43mmethod\u001b[49m\u001b[43m(\u001b[49m\u001b[43m)\u001b[49m\n\u001b[32m    407\u001b[39m     \u001b[38;5;28;01mreturn\u001b[39;00m \u001b[38;5;28;01mNone\u001b[39;00m\n\u001b[32m    408\u001b[39m \u001b[38;5;28;01melse\u001b[39;00m:\n",
      "\u001b[36mFile \u001b[39m\u001b[32mc:\\LSS\\실습\\dataAnalysis\\.venv\\Lib\\site-packages\\folium\\folium.py:358\u001b[39m, in \u001b[36mMap._repr_html_\u001b[39m\u001b[34m(self, **kwargs)\u001b[39m\n\u001b[32m    356\u001b[39m     \u001b[38;5;28mself\u001b[39m._parent = \u001b[38;5;28;01mNone\u001b[39;00m\n\u001b[32m    357\u001b[39m \u001b[38;5;28;01melse\u001b[39;00m:\n\u001b[32m--> \u001b[39m\u001b[32m358\u001b[39m     out = \u001b[38;5;28;43mself\u001b[39;49m\u001b[43m.\u001b[49m\u001b[43m_parent\u001b[49m\u001b[43m.\u001b[49m\u001b[43m_repr_html_\u001b[49m\u001b[43m(\u001b[49m\u001b[43m*\u001b[49m\u001b[43m*\u001b[49m\u001b[43mkwargs\u001b[49m\u001b[43m)\u001b[49m\n\u001b[32m    359\u001b[39m \u001b[38;5;28;01mreturn\u001b[39;00m out\n",
      "\u001b[36mFile \u001b[39m\u001b[32mc:\\LSS\\실습\\dataAnalysis\\.venv\\Lib\\site-packages\\branca\\element.py:410\u001b[39m, in \u001b[36mFigure._repr_html_\u001b[39m\u001b[34m(self, **kwargs)\u001b[39m\n\u001b[32m    408\u001b[39m \u001b[38;5;28;01mdef\u001b[39;00m\u001b[38;5;250m \u001b[39m\u001b[34m_repr_html_\u001b[39m(\u001b[38;5;28mself\u001b[39m, **kwargs) -> \u001b[38;5;28mstr\u001b[39m:\n\u001b[32m    409\u001b[39m \u001b[38;5;250m    \u001b[39m\u001b[33;03m\"\"\"Displays the Figure in a Jupyter notebook.\"\"\"\u001b[39;00m\n\u001b[32m--> \u001b[39m\u001b[32m410\u001b[39m     html = escape(\u001b[38;5;28;43mself\u001b[39;49m\u001b[43m.\u001b[49m\u001b[43mrender\u001b[49m\u001b[43m(\u001b[49m\u001b[43m*\u001b[49m\u001b[43m*\u001b[49m\u001b[43mkwargs\u001b[49m\u001b[43m)\u001b[49m)\n\u001b[32m    411\u001b[39m     \u001b[38;5;28;01mif\u001b[39;00m \u001b[38;5;28mself\u001b[39m.height \u001b[38;5;129;01mis\u001b[39;00m \u001b[38;5;28;01mNone\u001b[39;00m:\n\u001b[32m    412\u001b[39m         iframe = (\n\u001b[32m    413\u001b[39m             \u001b[33m'\u001b[39m\u001b[33m<div style=\u001b[39m\u001b[33m\"\u001b[39m\u001b[33mwidth:\u001b[39m\u001b[38;5;132;01m{width}\u001b[39;00m\u001b[33m;\u001b[39m\u001b[33m\"\u001b[39m\u001b[33m>\u001b[39m\u001b[33m'\u001b[39m\n\u001b[32m    414\u001b[39m             \u001b[33m'\u001b[39m\u001b[33m<div style=\u001b[39m\u001b[33m\"\u001b[39m\u001b[33mposition:relative;width:100\u001b[39m\u001b[33m%\u001b[39m\u001b[33m;height:0;padding-bottom:\u001b[39m\u001b[38;5;132;01m{ratio}\u001b[39;00m\u001b[33m;\u001b[39m\u001b[33m\"\u001b[39m\u001b[33m>\u001b[39m\u001b[33m'\u001b[39m  \u001b[38;5;66;03m# noqa\u001b[39;00m\n\u001b[32m   (...)\u001b[39m\u001b[32m    420\u001b[39m             \u001b[33m\"\u001b[39m\u001b[33m</div></div>\u001b[39m\u001b[33m\"\u001b[39m\n\u001b[32m    421\u001b[39m         ).format(html=html, width=\u001b[38;5;28mself\u001b[39m.width, ratio=\u001b[38;5;28mself\u001b[39m.ratio)\n",
      "\u001b[36mFile \u001b[39m\u001b[32mc:\\LSS\\실습\\dataAnalysis\\.venv\\Lib\\site-packages\\branca\\element.py:405\u001b[39m, in \u001b[36mFigure.render\u001b[39m\u001b[34m(self, **kwargs)\u001b[39m\n\u001b[32m    403\u001b[39m \u001b[38;5;250m\u001b[39m\u001b[33;03m\"\"\"Renders the HTML representation of the element.\"\"\"\u001b[39;00m\n\u001b[32m    404\u001b[39m \u001b[38;5;28;01mfor\u001b[39;00m name, child \u001b[38;5;129;01min\u001b[39;00m \u001b[38;5;28mself\u001b[39m._children.items():\n\u001b[32m--> \u001b[39m\u001b[32m405\u001b[39m     \u001b[43mchild\u001b[49m\u001b[43m.\u001b[49m\u001b[43mrender\u001b[49m\u001b[43m(\u001b[49m\u001b[43m*\u001b[49m\u001b[43m*\u001b[49m\u001b[43mkwargs\u001b[49m\u001b[43m)\u001b[49m\n\u001b[32m    406\u001b[39m \u001b[38;5;28;01mreturn\u001b[39;00m \u001b[38;5;28mself\u001b[39m._template.render(this=\u001b[38;5;28mself\u001b[39m, kwargs=kwargs)\n",
      "\u001b[36mFile \u001b[39m\u001b[32mc:\\LSS\\실습\\dataAnalysis\\.venv\\Lib\\site-packages\\folium\\elements.py:46\u001b[39m, in \u001b[36mJSCSSMixin.render\u001b[39m\u001b[34m(self, **kwargs)\u001b[39m\n\u001b[32m     43\u001b[39m \u001b[38;5;28;01mfor\u001b[39;00m name, url \u001b[38;5;129;01min\u001b[39;00m \u001b[38;5;28mself\u001b[39m.default_css:\n\u001b[32m     44\u001b[39m     figure.header.add_child(CssLink(url), name=name)\n\u001b[32m---> \u001b[39m\u001b[32m46\u001b[39m \u001b[38;5;28;43msuper\u001b[39;49m\u001b[43m(\u001b[49m\u001b[43m)\u001b[49m\u001b[43m.\u001b[49m\u001b[43mrender\u001b[49m\u001b[43m(\u001b[49m\u001b[43m*\u001b[49m\u001b[43m*\u001b[49m\u001b[43mkwargs\u001b[49m\u001b[43m)\u001b[49m\n",
      "\u001b[36mFile \u001b[39m\u001b[32mc:\\LSS\\실습\\dataAnalysis\\.venv\\Lib\\site-packages\\folium\\map.py:73\u001b[39m, in \u001b[36mClass.render\u001b[39m\u001b[34m(self, **kwargs)\u001b[39m\n\u001b[32m     64\u001b[39m     \u001b[38;5;66;03m# A bit weird. I tried adding IncludeStatement directly to both\u001b[39;00m\n\u001b[32m     65\u001b[39m     \u001b[38;5;66;03m# figure and script, but failed. So we render this ourself.\u001b[39;00m\n\u001b[32m     66\u001b[39m     figure.script.add_child(\n\u001b[32m     67\u001b[39m         Element(stmt._template.render(this=stmt, kwargs=\u001b[38;5;28mself\u001b[39m.includes)),\n\u001b[32m     68\u001b[39m         \u001b[38;5;66;03m# make sure each class include gets rendered only once\u001b[39;00m\n\u001b[32m   (...)\u001b[39m\u001b[32m     71\u001b[39m         index=-\u001b[32m1\u001b[39m,\n\u001b[32m     72\u001b[39m     )\n\u001b[32m---> \u001b[39m\u001b[32m73\u001b[39m \u001b[38;5;28;43msuper\u001b[39;49m\u001b[43m(\u001b[49m\u001b[43m)\u001b[49m\u001b[43m.\u001b[49m\u001b[43mrender\u001b[49m\u001b[43m(\u001b[49m\u001b[43m*\u001b[49m\u001b[43m*\u001b[49m\u001b[43mkwargs\u001b[49m\u001b[43m)\u001b[49m\n",
      "\u001b[36mFile \u001b[39m\u001b[32mc:\\LSS\\실습\\dataAnalysis\\.venv\\Lib\\site-packages\\branca\\element.py:736\u001b[39m, in \u001b[36mMacroElement.render\u001b[39m\u001b[34m(self, **kwargs)\u001b[39m\n\u001b[32m    733\u001b[39m     figure.script.add_child(Element(script(\u001b[38;5;28mself\u001b[39m, kwargs)), name=\u001b[38;5;28mself\u001b[39m.get_name())\n\u001b[32m    735\u001b[39m \u001b[38;5;28;01mfor\u001b[39;00m name, element \u001b[38;5;129;01min\u001b[39;00m \u001b[38;5;28mself\u001b[39m._children.items():\n\u001b[32m--> \u001b[39m\u001b[32m736\u001b[39m     \u001b[43melement\u001b[49m\u001b[43m.\u001b[49m\u001b[43mrender\u001b[49m\u001b[43m(\u001b[49m\u001b[43m*\u001b[49m\u001b[43m*\u001b[49m\u001b[43mkwargs\u001b[49m\u001b[43m)\u001b[49m\n",
      "\u001b[36mFile \u001b[39m\u001b[32mc:\\LSS\\실습\\dataAnalysis\\.venv\\Lib\\site-packages\\folium\\map.py:476\u001b[39m, in \u001b[36mMarker.render\u001b[39m\u001b[34m(self)\u001b[39m\n\u001b[32m    474\u001b[39m \u001b[38;5;28;01mdef\u001b[39;00m\u001b[38;5;250m \u001b[39m\u001b[34mrender\u001b[39m(\u001b[38;5;28mself\u001b[39m):\n\u001b[32m    475\u001b[39m     \u001b[38;5;28;01mif\u001b[39;00m \u001b[38;5;28mself\u001b[39m.location \u001b[38;5;129;01mis\u001b[39;00m \u001b[38;5;28;01mNone\u001b[39;00m:\n\u001b[32m--> \u001b[39m\u001b[32m476\u001b[39m         \u001b[38;5;28;01mraise\u001b[39;00m \u001b[38;5;167;01mValueError\u001b[39;00m(\n\u001b[32m    477\u001b[39m             \u001b[33mf\u001b[39m\u001b[33m\"\u001b[39m\u001b[38;5;132;01m{\u001b[39;00m\u001b[38;5;28mself\u001b[39m._name\u001b[38;5;132;01m}\u001b[39;00m\u001b[33m location must be assigned when added directly to map.\u001b[39m\u001b[33m\"\u001b[39m\n\u001b[32m    478\u001b[39m         )\n\u001b[32m    479\u001b[39m     \u001b[38;5;28;01mif\u001b[39;00m \u001b[38;5;28mself\u001b[39m.icon:\n\u001b[32m    480\u001b[39m         \u001b[38;5;28mself\u001b[39m.add_child(\u001b[38;5;28mself\u001b[39m.SetIcon(marker=\u001b[38;5;28mself\u001b[39m, icon=\u001b[38;5;28mself\u001b[39m.icon))\n",
      "\u001b[31mValueError\u001b[39m: Marker location must be assigned when added directly to map."
     ]
    },
    {
     "data": {
      "text/plain": [
       "<folium.folium.Map at 0x1b31c66c8a0>"
      ]
     },
     "execution_count": 7,
     "metadata": {},
     "output_type": "execute_result"
    }
   ],
   "source": [
    "import folium\n",
    "\n",
    "# 좌표 불러오기  (구글맵상 !3d36.6241687!4d127.4828486! -> 3d / 4d 이후가 좌표)\n",
    "ROTC195 = [36.6241687, 127.4828486]\n",
    "\n",
    "#folium 지도 객체 생성\n",
    "ROTC195_map = folium.Map(\n",
    "    location = ROTC195,\n",
    "    zoom_start = 18,\n",
    "    titles = \"195 ROTC\"\n",
    ")\n",
    "\n",
    "# 마커 춛가\n",
    "folium.Marker(\n",
    "    lacation = ROTC195,\n",
    "    popup = \"195 ROTC\",\n",
    "    icon = folium.Icon(color = 'blue', icon = 'info-sign')\n",
    ").add_to(ROTC195_map)\n",
    "\n",
    "ROTC195_map\n"
   ]
  },
  {
   "cell_type": "code",
   "execution_count": null,
   "id": "63ef1c76",
   "metadata": {},
   "outputs": [],
   "source": []
  }
 ],
 "metadata": {
  "kernelspec": {
   "display_name": ".venv",
   "language": "python",
   "name": "python3"
  },
  "language_info": {
   "codemirror_mode": {
    "name": "ipython",
    "version": 3
   },
   "file_extension": ".py",
   "mimetype": "text/x-python",
   "name": "python",
   "nbconvert_exporter": "python",
   "pygments_lexer": "ipython3",
   "version": "3.13.5"
  }
 },
 "nbformat": 4,
 "nbformat_minor": 5
}
